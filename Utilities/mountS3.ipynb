{
 "cells": [
  {
   "cell_type": "code",
   "execution_count": null,
   "id": "c6106a9b",
   "metadata": {},
   "outputs": [],
   "source": [
    "# !pip install s3fs\n",
    "import s3fs"
   ]
  },
  {
   "cell_type": "code",
   "execution_count": null,
   "id": "622a8249",
   "metadata": {
    "scrolled": false
   },
   "outputs": [],
   "source": [
    "import urllib\n",
    "ACCESS_KEY = \"\"\n",
    "SECRET_KEY = \"\"\n",
    "ENCODED_SECRET_KEY = urllib.parse.quote(SECRET_KEY, \"\")\n",
    "AWS_BUCKET_NAME = \"toffeebucket\"\n",
    "MOUNT_NAME = \"s3mounter\"\n",
    "MOUNT_SOURCE = \"s3n://%s:%s@%s\" % (ACCESS_KEY,ENCODED_SECRET_KEY, AWS_BUCKET_NAME), \"mnt/%s\"% MOUNT_NAME"
   ]
  },
  {
   "cell_type": "code",
   "execution_count": null,
   "id": "aebd9ff1",
   "metadata": {},
   "outputs": [],
   "source": [
    "s3 = s3fs.S3FileSystem(\n",
    "   key=ACCESS_KEY,\n",
    "   secret=SECRET_KEY,\n",
    ")"
   ]
  },
  {
   "cell_type": "code",
   "execution_count": null,
   "id": "a6c5ce82",
   "metadata": {},
   "outputs": [],
   "source": []
  },
  {
   "cell_type": "code",
   "execution_count": null,
   "id": "098c195c",
   "metadata": {
    "scrolled": true
   },
   "outputs": [],
   "source": [
    "with s3.open('toffeebucket/f_s3.csv', 'rb') as f:\n",
    "    print(f.read())"
   ]
  },
  {
   "cell_type": "code",
   "execution_count": null,
   "id": "1402faf1",
   "metadata": {},
   "outputs": [],
   "source": [
    "with s3.open('toffeebucket/f_s3_1.csv', 'w') as f:\n",
    "    for i in range(10):\n",
    "        print(str(i), file=f)"
   ]
  },
  {
   "cell_type": "code",
   "execution_count": null,
   "id": "dce78e90",
   "metadata": {},
   "outputs": [],
   "source": []
  }
 ],
 "metadata": {
  "kernelspec": {
   "display_name": "Python 3 (ipykernel)",
   "language": "python",
   "name": "python3"
  },
  "language_info": {
   "codemirror_mode": {
    "name": "ipython",
    "version": 3
   },
   "file_extension": ".py",
   "mimetype": "text/x-python",
   "name": "python",
   "nbconvert_exporter": "python",
   "pygments_lexer": "ipython3",
   "version": "3.8.10"
  }
 },
 "nbformat": 4,
 "nbformat_minor": 5
}
