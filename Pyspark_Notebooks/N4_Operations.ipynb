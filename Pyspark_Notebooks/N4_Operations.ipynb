{
 "cells": [
  {
   "cell_type": "code",
   "execution_count": 1,
   "id": "c61bbdc9",
   "metadata": {},
   "outputs": [],
   "source": [
    "import pyspark"
   ]
  },
  {
   "cell_type": "code",
   "execution_count": 2,
   "id": "7ec807e3",
   "metadata": {},
   "outputs": [],
   "source": [
    "from pyspark.sql import SparkSession"
   ]
  },
  {
   "cell_type": "code",
   "execution_count": 3,
   "id": "cb7feec3",
   "metadata": {},
   "outputs": [
    {
     "name": "stderr",
     "output_type": "stream",
     "text": [
      "21/11/23 22:47:17 WARN Utils: Your hostname, maq-VirtualBox resolves to a loopback address: 127.0.1.1; using 10.0.2.15 instead (on interface enp0s3)\n",
      "21/11/23 22:47:17 WARN Utils: Set SPARK_LOCAL_IP if you need to bind to another address\n",
      "WARNING: An illegal reflective access operation has occurred\n",
      "WARNING: Illegal reflective access by org.apache.spark.unsafe.Platform (file:/home/maq/spark-3.2.0-bin-hadoop3.2/jars/spark-unsafe_2.12-3.2.0.jar) to constructor java.nio.DirectByteBuffer(long,int)\n",
      "WARNING: Please consider reporting this to the maintainers of org.apache.spark.unsafe.Platform\n",
      "WARNING: Use --illegal-access=warn to enable warnings of further illegal reflective access operations\n",
      "WARNING: All illegal access operations will be denied in a future release\n",
      "Using Spark's default log4j profile: org/apache/spark/log4j-defaults.properties\n",
      "Setting default log level to \"WARN\".\n",
      "To adjust logging level use sc.setLogLevel(newLevel). For SparkR, use setLogLevel(newLevel).\n",
      "21/11/23 22:47:21 WARN NativeCodeLoader: Unable to load native-hadoop library for your platform... using builtin-java classes where applicable\n"
     ]
    }
   ],
   "source": [
    "spark = SparkSession.builder.appName('Basic').getOrCreate()"
   ]
  },
  {
   "cell_type": "code",
   "execution_count": 4,
   "id": "ca5472c5",
   "metadata": {},
   "outputs": [
    {
     "name": "stderr",
     "output_type": "stream",
     "text": [
      "                                                                                \r"
     ]
    }
   ],
   "source": [
    "df = spark.read.csv(\"/home/maq/Datasets/customer_churn.csv\")"
   ]
  },
  {
   "cell_type": "code",
   "execution_count": 5,
   "id": "b66463fd",
   "metadata": {},
   "outputs": [
    {
     "name": "stdout",
     "output_type": "stream",
     "text": [
      "root\n",
      " |-- _c0: string (nullable = true)\n",
      " |-- _c1: string (nullable = true)\n",
      " |-- _c2: string (nullable = true)\n",
      " |-- _c3: string (nullable = true)\n",
      " |-- _c4: string (nullable = true)\n",
      " |-- _c5: string (nullable = true)\n",
      " |-- _c6: string (nullable = true)\n",
      " |-- _c7: string (nullable = true)\n",
      " |-- _c8: string (nullable = true)\n",
      " |-- _c9: string (nullable = true)\n",
      "\n"
     ]
    }
   ],
   "source": [
    "df.printSchema()"
   ]
  },
  {
   "cell_type": "code",
   "execution_count": 6,
   "id": "6db5d4c6",
   "metadata": {},
   "outputs": [
    {
     "name": "stdout",
     "output_type": "stream",
     "text": [
      "root\n",
      " |-- Names: string (nullable = true)\n",
      " |-- Age: string (nullable = true)\n",
      " |-- Total_Purchase: string (nullable = true)\n",
      " |-- Account_Manager: string (nullable = true)\n",
      " |-- Years: string (nullable = true)\n",
      " |-- Num_Sites: string (nullable = true)\n",
      " |-- Onboard_date: string (nullable = true)\n",
      " |-- Location: string (nullable = true)\n",
      " |-- Company: string (nullable = true)\n",
      " |-- Churn: string (nullable = true)\n",
      "\n"
     ]
    }
   ],
   "source": [
    "df = spark.read.csv(\"/home/maq/Datasets/customer_churn.csv\", header = True)\n",
    "df.printSchema()"
   ]
  },
  {
   "cell_type": "code",
   "execution_count": 7,
   "id": "f068d3c7",
   "metadata": {},
   "outputs": [
    {
     "data": {
      "text/plain": [
       "['Names',\n",
       " 'Age',\n",
       " 'Total_Purchase',\n",
       " 'Account_Manager',\n",
       " 'Years',\n",
       " 'Num_Sites',\n",
       " 'Onboard_date',\n",
       " 'Location',\n",
       " 'Company',\n",
       " 'Churn']"
      ]
     },
     "execution_count": 7,
     "metadata": {},
     "output_type": "execute_result"
    }
   ],
   "source": [
    "df.columns"
   ]
  },
  {
   "cell_type": "code",
   "execution_count": 8,
   "id": "62a00544",
   "metadata": {},
   "outputs": [
    {
     "name": "stderr",
     "output_type": "stream",
     "text": [
      "                                                                                \r"
     ]
    },
    {
     "data": {
      "text/plain": [
       "DataFrame[summary: string, Names: string, Age: string, Total_Purchase: string, Account_Manager: string, Years: string, Num_Sites: string, Onboard_date: string, Location: string, Company: string, Churn: string]"
      ]
     },
     "execution_count": 8,
     "metadata": {},
     "output_type": "execute_result"
    }
   ],
   "source": [
    "df.describe()"
   ]
  },
  {
   "cell_type": "code",
   "execution_count": 9,
   "id": "b0a2ee75",
   "metadata": {},
   "outputs": [
    {
     "name": "stdout",
     "output_type": "stream",
     "text": [
      "root\n",
      " |-- Names: string (nullable = true)\n",
      " |-- Age: string (nullable = true)\n",
      " |-- Total_Purchase: string (nullable = true)\n",
      " |-- Account_Manager: integer (nullable = true)\n",
      " |-- Years: double (nullable = true)\n",
      " |-- Num_Sites: double (nullable = true)\n",
      " |-- Onboard_date: string (nullable = true)\n",
      " |-- Location: string (nullable = true)\n",
      " |-- Company: string (nullable = true)\n",
      " |-- Churn: string (nullable = true)\n",
      "\n"
     ]
    }
   ],
   "source": [
    "df = spark.read.csv(\"/home/maq/Datasets/customer_churn.csv\", header = True, inferSchema=True)\n",
    "df.printSchema()"
   ]
  },
  {
   "cell_type": "code",
   "execution_count": 12,
   "id": "3bce910b",
   "metadata": {},
   "outputs": [
    {
     "data": {
      "text/plain": [
       "Row(Names='Cameron Williams', Age='42.0', Total_Purchase='11066.8', Account_Manager=0, Years=7.22, Num_Sites=8.0, Onboard_date='2013-08-30 07:00:40', Location='10265 Elizabeth Mission', Company=None, Churn=None)"
      ]
     },
     "execution_count": 12,
     "metadata": {},
     "output_type": "execute_result"
    }
   ],
   "source": [
    "df.head()"
   ]
  },
  {
   "cell_type": "code",
   "execution_count": 16,
   "id": "71ed068c",
   "metadata": {},
   "outputs": [
    {
     "name": "stdout",
     "output_type": "stream",
     "text": [
      "+----+-----+\n",
      "| Age|count|\n",
      "+----+-----+\n",
      "|22.0|    1|\n",
      "|38.0|   51|\n",
      "|45.0|   56|\n",
      "|47.0|   29|\n",
      "|44.0|   53|\n",
      "|25.0|    1|\n",
      "|26.0|    2|\n",
      "|41.0|   69|\n",
      "|48.0|   36|\n",
      "|29.0|    9|\n",
      "|37.0|   48|\n",
      "|46.0|   48|\n",
      "|34.0|   25|\n",
      "|35.0|   32|\n",
      "|32.0|   18|\n",
      "|27.0|    1|\n",
      "|28.0|    5|\n",
      "|31.0|   11|\n",
      "|30.0|   11|\n",
      "|33.0|   16|\n",
      "+----+-----+\n",
      "only showing top 20 rows\n",
      "\n"
     ]
    }
   ],
   "source": [
    "df.filter('Age < 50').groupby('Age').count().show()"
   ]
  },
  {
   "cell_type": "code",
   "execution_count": 19,
   "id": "fe4085d7",
   "metadata": {},
   "outputs": [
    {
     "name": "stdout",
     "output_type": "stream",
     "text": [
      "+-------------------+----+\n",
      "|              Names| Age|\n",
      "+-------------------+----+\n",
      "|   Cameron Williams|42.0|\n",
      "|      Kevin Mueller|41.0|\n",
      "|        Eric Lozano|38.0|\n",
      "|      Phillip White|42.0|\n",
      "|     Cynthia Norton|37.0|\n",
      "|   Jessica Williams|48.0|\n",
      "|        Eric Butler|44.0|\n",
      "|      Zachary Walsh|32.0|\n",
      "|        Ashlee Carr|43.0|\n",
      "|     Jennifer Lynch|40.0|\n",
      "|       Paula Harris|30.0|\n",
      "|     Bruce Phillips|45.0|\n",
      "|       Craig Garner|45.0|\n",
      "|       Nicole Olson|40.0|\n",
      "|     Harold Griffin|41.0|\n",
      "|       James Wright|38.0|\n",
      "|      Doris Wilkins|45.0|\n",
      "|Katherine Carpenter|43.0|\n",
      "|        Kathy Curry|46.0|\n",
      "|        Dean Miller|41.0|\n",
      "+-------------------+----+\n",
      "only showing top 20 rows\n",
      "\n"
     ]
    }
   ],
   "source": [
    "df.filter('Age < 50').select(['Names', \n",
    "                              'Age']).show()"
   ]
  },
  {
   "cell_type": "code",
   "execution_count": 20,
   "id": "2af32eab",
   "metadata": {},
   "outputs": [
    {
     "name": "stdout",
     "output_type": "stream",
     "text": [
      "+-------------------+----+\n",
      "|              Names| Age|\n",
      "+-------------------+----+\n",
      "|   Cameron Williams|42.0|\n",
      "|      Kevin Mueller|41.0|\n",
      "|        Eric Lozano|38.0|\n",
      "|      Phillip White|42.0|\n",
      "|     Cynthia Norton|37.0|\n",
      "|   Jessica Williams|48.0|\n",
      "|        Eric Butler|44.0|\n",
      "|      Zachary Walsh|32.0|\n",
      "|        Ashlee Carr|43.0|\n",
      "|     Jennifer Lynch|40.0|\n",
      "|       Paula Harris|30.0|\n",
      "|     Bruce Phillips|45.0|\n",
      "|       Craig Garner|45.0|\n",
      "|       Nicole Olson|40.0|\n",
      "|     Harold Griffin|41.0|\n",
      "|       James Wright|38.0|\n",
      "|      Doris Wilkins|45.0|\n",
      "|Katherine Carpenter|43.0|\n",
      "|        Kathy Curry|46.0|\n",
      "|        Dean Miller|41.0|\n",
      "+-------------------+----+\n",
      "only showing top 20 rows\n",
      "\n"
     ]
    }
   ],
   "source": [
    "df.filter(df['Age'] < 50).select(['Names', \n",
    "                                  'Age']).show()"
   ]
  },
  {
   "cell_type": "code",
   "execution_count": 21,
   "id": "0a23ae23",
   "metadata": {},
   "outputs": [
    {
     "name": "stdout",
     "output_type": "stream",
     "text": [
      "+-------------------+----+\n",
      "|              Names| Age|\n",
      "+-------------------+----+\n",
      "|   Cameron Williams|42.0|\n",
      "|      Kevin Mueller|41.0|\n",
      "|      Phillip White|42.0|\n",
      "|   Jessica Williams|48.0|\n",
      "|        Eric Butler|44.0|\n",
      "|        Ashlee Carr|43.0|\n",
      "|     Bruce Phillips|45.0|\n",
      "|       Craig Garner|45.0|\n",
      "|     Harold Griffin|41.0|\n",
      "|      Doris Wilkins|45.0|\n",
      "|Katherine Carpenter|43.0|\n",
      "|        Kathy Curry|46.0|\n",
      "|        Dean Miller|41.0|\n",
      "|        Paul Walker|41.0|\n",
      "|      Darlene Evans|44.0|\n",
      "|         Carla Ball|45.0|\n",
      "|        Robert Hill|46.0|\n",
      "|     Joseph Harrell|44.0|\n",
      "|     Tammy Shepherd|48.0|\n",
      "|      Thomas Sawyer|48.0|\n",
      "+-------------------+----+\n",
      "only showing top 20 rows\n",
      "\n"
     ]
    }
   ],
   "source": [
    "df.filter((df['Age'] < 50) & (df['Age'] > 40)).select(['Names', \n",
    "                                  'Age']).show()"
   ]
  },
  {
   "cell_type": "code",
   "execution_count": 23,
   "id": "fb2d7d31",
   "metadata": {},
   "outputs": [
    {
     "name": "stdout",
     "output_type": "stream",
     "text": [
      "+-----------------+----+\n",
      "|            Names| Age|\n",
      "+-----------------+----+\n",
      "|   Richard Fields|50.0|\n",
      "| Brittany Jackson|50.0|\n",
      "|    Jeffrey Glenn|50.0|\n",
      "|     Mary Aguilar|50.0|\n",
      "|      Adam Strong|50.0|\n",
      "|    Jacob Escobar|50.0|\n",
      "|    Kristin Davis|50.0|\n",
      "|      Eugene Rowe|50.0|\n",
      "| Heather Thompson|50.0|\n",
      "|   Kenneth Graham|50.0|\n",
      "|Christopher Clark|50.0|\n",
      "|       Troy Burke|50.0|\n",
      "|     Leslie Lopez|50.0|\n",
      "|   Steven Mendoza|50.0|\n",
      "|    David Compton|50.0|\n",
      "+-----------------+----+\n",
      "\n"
     ]
    }
   ],
   "source": [
    "df.filter(df['Age']==50).select(['Names', \n",
    "                                  'Age']).show()"
   ]
  },
  {
   "cell_type": "code",
   "execution_count": 24,
   "id": "486334ac",
   "metadata": {},
   "outputs": [],
   "source": [
    "result = df.filter(df['Age']==50).select(['Names', \n",
    "                                  'Age']).collect()"
   ]
  },
  {
   "cell_type": "code",
   "execution_count": 25,
   "id": "1790f056",
   "metadata": {},
   "outputs": [
    {
     "data": {
      "text/plain": [
       "[Row(Names='Richard Fields', Age='50.0'),\n",
       " Row(Names='Brittany Jackson', Age='50.0'),\n",
       " Row(Names='Jeffrey Glenn', Age='50.0'),\n",
       " Row(Names='Mary Aguilar', Age='50.0'),\n",
       " Row(Names='Adam Strong', Age='50.0'),\n",
       " Row(Names='Jacob Escobar', Age='50.0'),\n",
       " Row(Names='Kristin Davis', Age='50.0'),\n",
       " Row(Names='Eugene Rowe', Age='50.0'),\n",
       " Row(Names='Heather Thompson', Age='50.0'),\n",
       " Row(Names='Kenneth Graham', Age='50.0'),\n",
       " Row(Names='Christopher Clark', Age='50.0'),\n",
       " Row(Names='Troy Burke', Age='50.0'),\n",
       " Row(Names='Leslie Lopez', Age='50.0'),\n",
       " Row(Names='Steven Mendoza', Age='50.0'),\n",
       " Row(Names='David Compton', Age='50.0')]"
      ]
     },
     "execution_count": 25,
     "metadata": {},
     "output_type": "execute_result"
    }
   ],
   "source": [
    "result"
   ]
  },
  {
   "cell_type": "code",
   "execution_count": 27,
   "id": "76f45a6e",
   "metadata": {
    "scrolled": true
   },
   "outputs": [
    {
     "data": {
      "text/plain": [
       "{'Names': 'Richard Fields', 'Age': '50.0'}"
      ]
     },
     "execution_count": 27,
     "metadata": {},
     "output_type": "execute_result"
    }
   ],
   "source": [
    "result[0].asDict()"
   ]
  },
  {
   "cell_type": "code",
   "execution_count": null,
   "id": "33eb2a27",
   "metadata": {},
   "outputs": [],
   "source": []
  }
 ],
 "metadata": {
  "kernelspec": {
   "display_name": "Python 3 (ipykernel)",
   "language": "python",
   "name": "python3"
  },
  "language_info": {
   "codemirror_mode": {
    "name": "ipython",
    "version": 3
   },
   "file_extension": ".py",
   "mimetype": "text/x-python",
   "name": "python",
   "nbconvert_exporter": "python",
   "pygments_lexer": "ipython3",
   "version": "3.8.10"
  }
 },
 "nbformat": 4,
 "nbformat_minor": 5
}
