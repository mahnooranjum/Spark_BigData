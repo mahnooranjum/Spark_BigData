{
 "cells": [
  {
   "cell_type": "code",
   "execution_count": 1,
   "id": "c61bbdc9",
   "metadata": {},
   "outputs": [],
   "source": [
    "import pyspark"
   ]
  },
  {
   "cell_type": "code",
   "execution_count": 2,
   "id": "7ec807e3",
   "metadata": {},
   "outputs": [],
   "source": [
    "from pyspark.sql import SparkSession"
   ]
  },
  {
   "cell_type": "code",
   "execution_count": 3,
   "id": "cb7feec3",
   "metadata": {},
   "outputs": [
    {
     "name": "stderr",
     "output_type": "stream",
     "text": [
      "21/11/23 20:03:32 WARN Utils: Your hostname, maq-VirtualBox resolves to a loopback address: 127.0.1.1; using 10.0.2.15 instead (on interface enp0s3)\n",
      "21/11/23 20:03:32 WARN Utils: Set SPARK_LOCAL_IP if you need to bind to another address\n",
      "WARNING: An illegal reflective access operation has occurred\n",
      "WARNING: Illegal reflective access by org.apache.spark.unsafe.Platform (file:/home/maq/spark-3.2.0-bin-hadoop3.2/jars/spark-unsafe_2.12-3.2.0.jar) to constructor java.nio.DirectByteBuffer(long,int)\n",
      "WARNING: Please consider reporting this to the maintainers of org.apache.spark.unsafe.Platform\n",
      "WARNING: Use --illegal-access=warn to enable warnings of further illegal reflective access operations\n",
      "WARNING: All illegal access operations will be denied in a future release\n",
      "Using Spark's default log4j profile: org/apache/spark/log4j-defaults.properties\n",
      "Setting default log level to \"WARN\".\n",
      "To adjust logging level use sc.setLogLevel(newLevel). For SparkR, use setLogLevel(newLevel).\n",
      "21/11/23 20:03:34 WARN NativeCodeLoader: Unable to load native-hadoop library for your platform... using builtin-java classes where applicable\n"
     ]
    }
   ],
   "source": [
    "spark = SparkSession.builder.appName('Basic').getOrCreate()"
   ]
  },
  {
   "cell_type": "code",
   "execution_count": 4,
   "id": "ca5472c5",
   "metadata": {},
   "outputs": [
    {
     "name": "stderr",
     "output_type": "stream",
     "text": [
      "\r",
      "[Stage 0:>                                                          (0 + 1) / 1]\r",
      "\r",
      "                                                                                \r"
     ]
    }
   ],
   "source": [
    "df = spark.read.csv(\"/home/maq/Datasets/customer_churn.csv\")"
   ]
  },
  {
   "cell_type": "code",
   "execution_count": 5,
   "id": "b66463fd",
   "metadata": {},
   "outputs": [
    {
     "name": "stdout",
     "output_type": "stream",
     "text": [
      "+-------------------+---------------+--------------------+---------------+-----+---------+-------------------+--------------------+-------+-----+\n",
      "|                _c0|            _c1|                 _c2|            _c3|  _c4|      _c5|                _c6|                 _c7|    _c8|  _c9|\n",
      "+-------------------+---------------+--------------------+---------------+-----+---------+-------------------+--------------------+-------+-----+\n",
      "|              Names|            Age|      Total_Purchase|Account_Manager|Years|Num_Sites|       Onboard_date|            Location|Company|Churn|\n",
      "|   Cameron Williams|           42.0|             11066.8|              0| 7.22|      8.0|2013-08-30 07:00:40|10265 Elizabeth M...|   null| null|\n",
      "|        Barkerburgh|      AK 89518\"|          Harvey LLC|              1| null|     null|               null|                null|   null| null|\n",
      "|      Kevin Mueller|           41.0|            11916.22|              0|  6.5|     11.0|2013-08-13 00:38:46|6157 Frank Garden...|   null| null|\n",
      "|        Carloshaven|      RI 17756\"|          Wilson PLC|              1| null|     null|               null|                null|   null| null|\n",
      "|        Eric Lozano|           38.0|            12884.75|              0| 6.67|     12.0|2016-06-29 06:20:07|    1331 Keith Court|   null| null|\n",
      "|        Alyssahaven|      DE 90114\"|Miller, Johnson a...|              1| null|     null|               null|                null|   null| null|\n",
      "|      Phillip White|           42.0|             8010.76|              0| 6.71|     10.0|2014-04-22 12:43:12|  13120 Daniel Mount|   null| null|\n",
      "|         Angelabury| WY 30645-4695\"|           Smith Inc|              1| null|     null|               null|                null|   null| null|\n",
      "|     Cynthia Norton|           37.0|             9191.58|              0| 5.56|      9.0|2016-01-19 15:31:15|      765 Tricia Row|   null| null|\n",
      "|         Karenshire|      MH 71730\"|          Love-Jones|              1| null|     null|               null|                null|   null| null|\n",
      "|   Jessica Williams|           48.0|            10356.02|              0| 5.12|      8.0|2009-03-03 23:13:37|6187 Olson Mountains|   null| null|\n",
      "|East Vincentborough|      PR 74359\"|        Kelly-Warren|              1| null|     null|               null|                null|   null| null|\n",
      "|        Eric Butler|           44.0|            11331.58|              1| 5.23|     11.0|2016-12-05 03:35:43|  4846 Savannah Road|   null| null|\n",
      "|        West Justin| IA 87713-3460\"|   Reynolds-Sheppard|              1| null|     null|               null|                null|   null| null|\n",
      "|      Zachary Walsh|           32.0|             9885.12|              1| 6.92|      9.0|2006-03-09 14:50:20|25271 Roy Express...|   null| null|\n",
      "|          Brownport| FM 59852-6150\"|          Singh-Cole|              1| null|     null|               null|                null|   null| null|\n",
      "|        Ashlee Carr|           43.0|             14062.6|              1| 5.46|     11.0|2011-09-29 05:47:23|3725 Caroline Str...|   null| null|\n",
      "|South Christineview|      MA 82059\"|           Lopez PLC|              1| null|     null|               null|                null|   null| null|\n",
      "|     Jennifer Lynch|           40.0|             8066.94|              1| 7.11|     11.0|2006-03-28 15:42:45|363 Sandra Lodge ...|   null| null|\n",
      "+-------------------+---------------+--------------------+---------------+-----+---------+-------------------+--------------------+-------+-----+\n",
      "only showing top 20 rows\n",
      "\n"
     ]
    }
   ],
   "source": [
    "df.show()"
   ]
  },
  {
   "cell_type": "code",
   "execution_count": 6,
   "id": "6db5d4c6",
   "metadata": {},
   "outputs": [
    {
     "name": "stdout",
     "output_type": "stream",
     "text": [
      "+-------------------+---------------+--------------------+---------------+-----+---------+-------------------+--------------------+-------+-----+\n",
      "|              Names|            Age|      Total_Purchase|Account_Manager|Years|Num_Sites|       Onboard_date|            Location|Company|Churn|\n",
      "+-------------------+---------------+--------------------+---------------+-----+---------+-------------------+--------------------+-------+-----+\n",
      "|   Cameron Williams|           42.0|             11066.8|              0| 7.22|      8.0|2013-08-30 07:00:40|10265 Elizabeth M...|   null| null|\n",
      "|        Barkerburgh|      AK 89518\"|          Harvey LLC|              1| null|     null|               null|                null|   null| null|\n",
      "|      Kevin Mueller|           41.0|            11916.22|              0|  6.5|     11.0|2013-08-13 00:38:46|6157 Frank Garden...|   null| null|\n",
      "|        Carloshaven|      RI 17756\"|          Wilson PLC|              1| null|     null|               null|                null|   null| null|\n",
      "|        Eric Lozano|           38.0|            12884.75|              0| 6.67|     12.0|2016-06-29 06:20:07|    1331 Keith Court|   null| null|\n",
      "|        Alyssahaven|      DE 90114\"|Miller, Johnson a...|              1| null|     null|               null|                null|   null| null|\n",
      "|      Phillip White|           42.0|             8010.76|              0| 6.71|     10.0|2014-04-22 12:43:12|  13120 Daniel Mount|   null| null|\n",
      "|         Angelabury| WY 30645-4695\"|           Smith Inc|              1| null|     null|               null|                null|   null| null|\n",
      "|     Cynthia Norton|           37.0|             9191.58|              0| 5.56|      9.0|2016-01-19 15:31:15|      765 Tricia Row|   null| null|\n",
      "|         Karenshire|      MH 71730\"|          Love-Jones|              1| null|     null|               null|                null|   null| null|\n",
      "|   Jessica Williams|           48.0|            10356.02|              0| 5.12|      8.0|2009-03-03 23:13:37|6187 Olson Mountains|   null| null|\n",
      "|East Vincentborough|      PR 74359\"|        Kelly-Warren|              1| null|     null|               null|                null|   null| null|\n",
      "|        Eric Butler|           44.0|            11331.58|              1| 5.23|     11.0|2016-12-05 03:35:43|  4846 Savannah Road|   null| null|\n",
      "|        West Justin| IA 87713-3460\"|   Reynolds-Sheppard|              1| null|     null|               null|                null|   null| null|\n",
      "|      Zachary Walsh|           32.0|             9885.12|              1| 6.92|      9.0|2006-03-09 14:50:20|25271 Roy Express...|   null| null|\n",
      "|          Brownport| FM 59852-6150\"|          Singh-Cole|              1| null|     null|               null|                null|   null| null|\n",
      "|        Ashlee Carr|           43.0|             14062.6|              1| 5.46|     11.0|2011-09-29 05:47:23|3725 Caroline Str...|   null| null|\n",
      "|South Christineview|      MA 82059\"|           Lopez PLC|              1| null|     null|               null|                null|   null| null|\n",
      "|     Jennifer Lynch|           40.0|             8066.94|              1| 7.11|     11.0|2006-03-28 15:42:45|363 Sandra Lodge ...|   null| null|\n",
      "|          South Ann| WI 51655-7561\"|       Reed-Martinez|              1| null|     null|               null|                null|   null| null|\n",
      "+-------------------+---------------+--------------------+---------------+-----+---------+-------------------+--------------------+-------+-----+\n",
      "only showing top 20 rows\n",
      "\n"
     ]
    }
   ],
   "source": [
    "df = spark.read.csv(\"/home/maq/Datasets/customer_churn.csv\", header = True)\n",
    "df.show()"
   ]
  },
  {
   "cell_type": "code",
   "execution_count": 7,
   "id": "e7c49828",
   "metadata": {},
   "outputs": [
    {
     "name": "stdout",
     "output_type": "stream",
     "text": [
      "root\n",
      " |-- Names: string (nullable = true)\n",
      " |-- Age: string (nullable = true)\n",
      " |-- Total_Purchase: string (nullable = true)\n",
      " |-- Account_Manager: string (nullable = true)\n",
      " |-- Years: string (nullable = true)\n",
      " |-- Num_Sites: string (nullable = true)\n",
      " |-- Onboard_date: string (nullable = true)\n",
      " |-- Location: string (nullable = true)\n",
      " |-- Company: string (nullable = true)\n",
      " |-- Churn: string (nullable = true)\n",
      "\n"
     ]
    }
   ],
   "source": [
    "df.printSchema()"
   ]
  },
  {
   "cell_type": "code",
   "execution_count": 8,
   "id": "f068d3c7",
   "metadata": {},
   "outputs": [
    {
     "data": {
      "text/plain": [
       "['Names',\n",
       " 'Age',\n",
       " 'Total_Purchase',\n",
       " 'Account_Manager',\n",
       " 'Years',\n",
       " 'Num_Sites',\n",
       " 'Onboard_date',\n",
       " 'Location',\n",
       " 'Company',\n",
       " 'Churn']"
      ]
     },
     "execution_count": 8,
     "metadata": {},
     "output_type": "execute_result"
    }
   ],
   "source": [
    "df.columns"
   ]
  },
  {
   "cell_type": "code",
   "execution_count": 9,
   "id": "62a00544",
   "metadata": {},
   "outputs": [
    {
     "name": "stderr",
     "output_type": "stream",
     "text": [
      "                                                                                \r"
     ]
    },
    {
     "data": {
      "text/plain": [
       "DataFrame[summary: string, Names: string, Age: string, Total_Purchase: string, Account_Manager: string, Years: string, Num_Sites: string, Onboard_date: string, Location: string, Company: string, Churn: string]"
      ]
     },
     "execution_count": 9,
     "metadata": {},
     "output_type": "execute_result"
    }
   ],
   "source": [
    "df.describe()"
   ]
  },
  {
   "cell_type": "code",
   "execution_count": 10,
   "id": "792a1689",
   "metadata": {},
   "outputs": [
    {
     "name": "stdout",
     "output_type": "stream",
     "text": [
      "+-------+-------------+-----------------+--------------------+------------------+-----------------+------------------+-------------------+--------------------+-------+-----+\n",
      "|summary|        Names|              Age|      Total_Purchase|   Account_Manager|            Years|         Num_Sites|       Onboard_date|            Location|Company|Churn|\n",
      "+-------+-------------+-----------------+--------------------+------------------+-----------------+------------------+-------------------+--------------------+-------+-----+\n",
      "|  count|         1800|             1800|                1800|              1693|              900|               900|                900|                 900|      0|    0|\n",
      "|   mean|         null|41.81666666666667|   8993.604399205567|0.3337271116361488| 5.27315555555555| 8.587777777777777|               null|                null|   null| null|\n",
      "| stddev|         null|6.127560416916251|  3848.3789060162444|0.4716828819140737|1.274449013194616|1.7648355920350969|               null|                null|   null| null|\n",
      "|    min|APO AA 00585\"|        AK 08955\"|                   0|                 0|              1.0|              10.0|2006-01-02 04:16:13|00103 Jeffrey Cre...|   null| null|\n",
      "|    max|Zachary Walsh|   Young and Sons|Zuniga, Clark and...|                 1|             9.15|               9.0|2016-12-28 04:07:38|  Unit 9800 Box 2878|   null| null|\n",
      "+-------+-------------+-----------------+--------------------+------------------+-----------------+------------------+-------------------+--------------------+-------+-----+\n",
      "\n"
     ]
    }
   ],
   "source": [
    "df.describe().show()"
   ]
  },
  {
   "cell_type": "code",
   "execution_count": 11,
   "id": "4f625cbd",
   "metadata": {},
   "outputs": [],
   "source": [
    "from pyspark.sql.types import (StructField, \n",
    "                               StringType,\n",
    "                               IntegerType,\n",
    "                               StructType)"
   ]
  },
  {
   "cell_type": "code",
   "execution_count": 12,
   "id": "c6fd558a",
   "metadata": {},
   "outputs": [],
   "source": [
    "data_schema = [ StructField('age', IntegerType(), True),\n",
    "                StructField('name', StringType(), True)]"
   ]
  },
  {
   "cell_type": "code",
   "execution_count": 13,
   "id": "66b48b36",
   "metadata": {},
   "outputs": [],
   "source": [
    "final_struct = StructType(fields = data_schema)\n",
    "\n",
    "# df = spark.read.json('persons.json', schema = final_struct)"
   ]
  }
 ],
 "metadata": {
  "kernelspec": {
   "display_name": "Python 3 (ipykernel)",
   "language": "python",
   "name": "python3"
  },
  "language_info": {
   "codemirror_mode": {
    "name": "ipython",
    "version": 3
   },
   "file_extension": ".py",
   "mimetype": "text/x-python",
   "name": "python",
   "nbconvert_exporter": "python",
   "pygments_lexer": "ipython3",
   "version": "3.8.10"
  }
 },
 "nbformat": 4,
 "nbformat_minor": 5
}
