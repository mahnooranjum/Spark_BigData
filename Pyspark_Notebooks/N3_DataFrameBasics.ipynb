{
 "cells": [
  {
   "cell_type": "code",
   "execution_count": 20,
   "id": "c61bbdc9",
   "metadata": {},
   "outputs": [],
   "source": [
    "import pyspark"
   ]
  },
  {
   "cell_type": "code",
   "execution_count": 21,
   "id": "7ec807e3",
   "metadata": {},
   "outputs": [],
   "source": [
    "from pyspark.sql import SparkSession"
   ]
  },
  {
   "cell_type": "code",
   "execution_count": 22,
   "id": "cb7feec3",
   "metadata": {},
   "outputs": [],
   "source": [
    "spark = SparkSession.builder.appName('Basic').getOrCreate()"
   ]
  },
  {
   "cell_type": "code",
   "execution_count": 23,
   "id": "ca5472c5",
   "metadata": {},
   "outputs": [],
   "source": [
    "df = spark.read.csv(\"/home/maq/Datasets/customer_churn.csv\")"
   ]
  },
  {
   "cell_type": "code",
   "execution_count": 24,
   "id": "b66463fd",
   "metadata": {},
   "outputs": [
    {
     "name": "stdout",
     "output_type": "stream",
     "text": [
      "root\n",
      " |-- _c0: string (nullable = true)\n",
      " |-- _c1: string (nullable = true)\n",
      " |-- _c2: string (nullable = true)\n",
      " |-- _c3: string (nullable = true)\n",
      " |-- _c4: string (nullable = true)\n",
      " |-- _c5: string (nullable = true)\n",
      " |-- _c6: string (nullable = true)\n",
      " |-- _c7: string (nullable = true)\n",
      " |-- _c8: string (nullable = true)\n",
      " |-- _c9: string (nullable = true)\n",
      "\n"
     ]
    }
   ],
   "source": [
    "df.printSchema()"
   ]
  },
  {
   "cell_type": "code",
   "execution_count": 25,
   "id": "6db5d4c6",
   "metadata": {},
   "outputs": [
    {
     "name": "stdout",
     "output_type": "stream",
     "text": [
      "root\n",
      " |-- Names: string (nullable = true)\n",
      " |-- Age: string (nullable = true)\n",
      " |-- Total_Purchase: string (nullable = true)\n",
      " |-- Account_Manager: string (nullable = true)\n",
      " |-- Years: string (nullable = true)\n",
      " |-- Num_Sites: string (nullable = true)\n",
      " |-- Onboard_date: string (nullable = true)\n",
      " |-- Location: string (nullable = true)\n",
      " |-- Company: string (nullable = true)\n",
      " |-- Churn: string (nullable = true)\n",
      "\n"
     ]
    }
   ],
   "source": [
    "df = spark.read.csv(\"/home/maq/Datasets/customer_churn.csv\", header = True)\n",
    "df.printSchema()"
   ]
  },
  {
   "cell_type": "code",
   "execution_count": 26,
   "id": "f068d3c7",
   "metadata": {},
   "outputs": [
    {
     "data": {
      "text/plain": [
       "['Names',\n",
       " 'Age',\n",
       " 'Total_Purchase',\n",
       " 'Account_Manager',\n",
       " 'Years',\n",
       " 'Num_Sites',\n",
       " 'Onboard_date',\n",
       " 'Location',\n",
       " 'Company',\n",
       " 'Churn']"
      ]
     },
     "execution_count": 26,
     "metadata": {},
     "output_type": "execute_result"
    }
   ],
   "source": [
    "df.columns"
   ]
  },
  {
   "cell_type": "code",
   "execution_count": 27,
   "id": "62a00544",
   "metadata": {},
   "outputs": [
    {
     "name": "stderr",
     "output_type": "stream",
     "text": [
      "                                                                                \r"
     ]
    },
    {
     "data": {
      "text/plain": [
       "DataFrame[summary: string, Names: string, Age: string, Total_Purchase: string, Account_Manager: string, Years: string, Num_Sites: string, Onboard_date: string, Location: string, Company: string, Churn: string]"
      ]
     },
     "execution_count": 27,
     "metadata": {},
     "output_type": "execute_result"
    }
   ],
   "source": [
    "df.describe()"
   ]
  },
  {
   "cell_type": "code",
   "execution_count": 28,
   "id": "4f625cbd",
   "metadata": {},
   "outputs": [],
   "source": [
    "from pyspark.sql.types import (StructField, \n",
    "                               StringType,\n",
    "                               IntegerType,\n",
    "                               FloatType, \n",
    "                               DoubleType,\n",
    "                               DecimalType,\n",
    "                               BooleanType,\n",
    "                               StructType)"
   ]
  },
  {
   "cell_type": "code",
   "execution_count": 29,
   "id": "c6fd558a",
   "metadata": {},
   "outputs": [],
   "source": [
    "def schemaBuilder(columns):                \n",
    "    data_schema = []\n",
    "    for i in columns:\n",
    "        whatis = input(i + \" is int, float, double, decimal, bool, string :\")\n",
    "        if (whatis == 'float'):\n",
    "            dataType = FloatType()\n",
    "        elif (whatis == 'bool'):\n",
    "            dataType = BooleanType()\n",
    "        elif (whatis == 'double'):\n",
    "            dataType = DoubleType()\n",
    "        elif (whatis == 'int'):\n",
    "            dataType = IntegerType()\n",
    "        elif (whatis == 'decimal'):\n",
    "            dataType = DecimalType()\n",
    "        else:\n",
    "            dataType = StringType()\n",
    "        \n",
    "        data_schema.append(StructField(i, dataType, True))\n",
    "        \n",
    "    return data_schema"
   ]
  },
  {
   "cell_type": "code",
   "execution_count": 30,
   "id": "701afe8d",
   "metadata": {},
   "outputs": [
    {
     "name": "stdout",
     "output_type": "stream",
     "text": [
      "Names is int, float, double, decimal, bool, string :string\n",
      "Age is int, float, double, decimal, bool, string :string \n",
      "Total_Purchase is int, float, double, decimal, bool, string :\n",
      "Account_Manager is int, float, double, decimal, bool, string :\n",
      "Years is int, float, double, decimal, bool, string :\n",
      "Num_Sites is int, float, double, decimal, bool, string :\n",
      "Onboard_date is int, float, double, decimal, bool, string :\n",
      "Location is int, float, double, decimal, bool, string :\n",
      "Company is int, float, double, decimal, bool, string :\n",
      "Churn is int, float, double, decimal, bool, string :\n"
     ]
    }
   ],
   "source": [
    "data_schema = schemaBuilder(df.columns)"
   ]
  },
  {
   "cell_type": "code",
   "execution_count": 31,
   "id": "66b48b36",
   "metadata": {},
   "outputs": [],
   "source": [
    "final_struct = StructType(fields = data_schema)\n",
    "\n",
    "# df = spark.read.json('persons.json', schema = final_struct)"
   ]
  },
  {
   "cell_type": "code",
   "execution_count": 32,
   "id": "7730a9bf",
   "metadata": {},
   "outputs": [
    {
     "name": "stdout",
     "output_type": "stream",
     "text": [
      "root\n",
      " |-- Names: string (nullable = true)\n",
      " |-- Age: string (nullable = true)\n",
      " |-- Total_Purchase: string (nullable = true)\n",
      " |-- Account_Manager: string (nullable = true)\n",
      " |-- Years: string (nullable = true)\n",
      " |-- Num_Sites: string (nullable = true)\n",
      " |-- Onboard_date: string (nullable = true)\n",
      " |-- Location: string (nullable = true)\n",
      " |-- Company: string (nullable = true)\n",
      " |-- Churn: string (nullable = true)\n",
      "\n"
     ]
    }
   ],
   "source": [
    "df = spark.read.csv(\"/home/maq/Datasets/customer_churn.csv\", header = True, schema = final_struct)\n",
    "df.printSchema()"
   ]
  },
  {
   "cell_type": "code",
   "execution_count": 33,
   "id": "cc1a845d",
   "metadata": {},
   "outputs": [
    {
     "data": {
      "text/plain": [
       "pyspark.sql.column.Column"
      ]
     },
     "execution_count": 33,
     "metadata": {},
     "output_type": "execute_result"
    }
   ],
   "source": [
    "type(df['age'])"
   ]
  },
  {
   "cell_type": "code",
   "execution_count": 34,
   "id": "8475b10c",
   "metadata": {},
   "outputs": [
    {
     "data": {
      "text/plain": [
       "pyspark.sql.dataframe.DataFrame"
      ]
     },
     "execution_count": 34,
     "metadata": {},
     "output_type": "execute_result"
    }
   ],
   "source": [
    "type(df.select('age'))"
   ]
  },
  {
   "cell_type": "code",
   "execution_count": 35,
   "id": "df2720e4",
   "metadata": {},
   "outputs": [
    {
     "data": {
      "text/plain": [
       "list"
      ]
     },
     "execution_count": 35,
     "metadata": {},
     "output_type": "execute_result"
    }
   ],
   "source": [
    "type(df.head(2))"
   ]
  },
  {
   "cell_type": "code",
   "execution_count": 36,
   "id": "47798416",
   "metadata": {},
   "outputs": [
    {
     "data": {
      "text/plain": [
       "[Row(Names='Cameron Williams', Age='42.0', Total_Purchase='11066.8', Account_Manager='0', Years='7.22', Num_Sites='8.0', Onboard_date='2013-08-30 07:00:40', Location='10265 Elizabeth Mission', Company=None, Churn=None),\n",
       " Row(Names='Barkerburgh', Age=' AK 89518\"', Total_Purchase='Harvey LLC', Account_Manager='1', Years=None, Num_Sites=None, Onboard_date=None, Location=None, Company=None, Churn=None)]"
      ]
     },
     "execution_count": 36,
     "metadata": {},
     "output_type": "execute_result"
    }
   ],
   "source": [
    "df.head(2)"
   ]
  },
  {
   "cell_type": "code",
   "execution_count": 37,
   "id": "4879aa00",
   "metadata": {},
   "outputs": [
    {
     "data": {
      "text/plain": [
       "Row(Names='Barkerburgh', Age=' AK 89518\"', Total_Purchase='Harvey LLC', Account_Manager='1', Years=None, Num_Sites=None, Onboard_date=None, Location=None, Company=None, Churn=None)"
      ]
     },
     "execution_count": 37,
     "metadata": {},
     "output_type": "execute_result"
    }
   ],
   "source": [
    "df.head(2)[1]"
   ]
  },
  {
   "cell_type": "code",
   "execution_count": 40,
   "id": "cad2efa2",
   "metadata": {},
   "outputs": [
    {
     "name": "stdout",
     "output_type": "stream",
     "text": [
      "+-------------------+---------------+\n",
      "|              Names|            age|\n",
      "+-------------------+---------------+\n",
      "|   Cameron Williams|           42.0|\n",
      "|        Barkerburgh|      AK 89518\"|\n",
      "|      Kevin Mueller|           41.0|\n",
      "|        Carloshaven|      RI 17756\"|\n",
      "|        Eric Lozano|           38.0|\n",
      "|        Alyssahaven|      DE 90114\"|\n",
      "|      Phillip White|           42.0|\n",
      "|         Angelabury| WY 30645-4695\"|\n",
      "|     Cynthia Norton|           37.0|\n",
      "|         Karenshire|      MH 71730\"|\n",
      "|   Jessica Williams|           48.0|\n",
      "|East Vincentborough|      PR 74359\"|\n",
      "|        Eric Butler|           44.0|\n",
      "|        West Justin| IA 87713-3460\"|\n",
      "|      Zachary Walsh|           32.0|\n",
      "|          Brownport| FM 59852-6150\"|\n",
      "|        Ashlee Carr|           43.0|\n",
      "|South Christineview|      MA 82059\"|\n",
      "|     Jennifer Lynch|           40.0|\n",
      "|          South Ann| WI 51655-7561\"|\n",
      "+-------------------+---------------+\n",
      "only showing top 20 rows\n",
      "\n"
     ]
    }
   ],
   "source": [
    "df.select(['Names', 'age']).show()"
   ]
  },
  {
   "cell_type": "code",
   "execution_count": 45,
   "id": "4f3dbf32",
   "metadata": {},
   "outputs": [
    {
     "name": "stdout",
     "output_type": "stream",
     "text": [
      "root\n",
      " |-- Names: string (nullable = true)\n",
      " |-- Age: string (nullable = true)\n",
      " |-- Total_Purchase: string (nullable = true)\n",
      " |-- Account_Manager: string (nullable = true)\n",
      " |-- Years: string (nullable = true)\n",
      " |-- Num_Sites: string (nullable = true)\n",
      " |-- Onboard_date: string (nullable = true)\n",
      " |-- Location: string (nullable = true)\n",
      " |-- Company: string (nullable = true)\n",
      " |-- Churn: string (nullable = true)\n",
      " |-- newcolumn: double (nullable = true)\n",
      "\n"
     ]
    }
   ],
   "source": [
    "df.withColumn('newcolumn', df['age']+1).printSchema()\n",
    "# Not at inplace operation"
   ]
  },
  {
   "cell_type": "code",
   "execution_count": 46,
   "id": "58cc3c47",
   "metadata": {},
   "outputs": [
    {
     "name": "stdout",
     "output_type": "stream",
     "text": [
      "root\n",
      " |-- name: string (nullable = true)\n",
      " |-- Age: string (nullable = true)\n",
      " |-- Total_Purchase: string (nullable = true)\n",
      " |-- Account_Manager: string (nullable = true)\n",
      " |-- Years: string (nullable = true)\n",
      " |-- Num_Sites: string (nullable = true)\n",
      " |-- Onboard_date: string (nullable = true)\n",
      " |-- Location: string (nullable = true)\n",
      " |-- Company: string (nullable = true)\n",
      " |-- Churn: string (nullable = true)\n",
      "\n"
     ]
    }
   ],
   "source": [
    "df.withColumnRenamed('Names', 'name').printSchema()"
   ]
  },
  {
   "cell_type": "code",
   "execution_count": 47,
   "id": "74abfb7f",
   "metadata": {},
   "outputs": [],
   "source": [
    "df.createOrReplaceTempView('people')"
   ]
  },
  {
   "cell_type": "code",
   "execution_count": 48,
   "id": "412c1e1d",
   "metadata": {},
   "outputs": [],
   "source": [
    "results = spark.sql('SELECT * FROM people')"
   ]
  },
  {
   "cell_type": "code",
   "execution_count": 49,
   "id": "f48d4bd2",
   "metadata": {},
   "outputs": [
    {
     "data": {
      "text/plain": [
       "DataFrame[Names: string, Age: string, Total_Purchase: string, Account_Manager: string, Years: string, Num_Sites: string, Onboard_date: string, Location: string, Company: string, Churn: string]"
      ]
     },
     "execution_count": 49,
     "metadata": {},
     "output_type": "execute_result"
    }
   ],
   "source": [
    "results"
   ]
  },
  {
   "cell_type": "code",
   "execution_count": 56,
   "id": "28124cfc",
   "metadata": {},
   "outputs": [
    {
     "name": "stdout",
     "output_type": "stream",
     "text": [
      "+---------------+-----+\n",
      "|Account_Manager|count|\n",
      "+---------------+-----+\n",
      "|              0| 1128|\n",
      "|              1|  565|\n",
      "|           null|  107|\n",
      "+---------------+-----+\n",
      "\n"
     ]
    }
   ],
   "source": [
    "results.groupby('Account_Manager').count().show()"
   ]
  },
  {
   "cell_type": "code",
   "execution_count": 57,
   "id": "e36deacc",
   "metadata": {},
   "outputs": [],
   "source": [
    "results = spark.sql('SELECT * FROM people where Account_Manager=1')"
   ]
  },
  {
   "cell_type": "code",
   "execution_count": 59,
   "id": "e5122399",
   "metadata": {},
   "outputs": [
    {
     "name": "stdout",
     "output_type": "stream",
     "text": [
      "+---------------+-----+\n",
      "|Account_Manager|count|\n",
      "+---------------+-----+\n",
      "|              1|  565|\n",
      "+---------------+-----+\n",
      "\n"
     ]
    }
   ],
   "source": [
    "results.groupby('Account_Manager').count().show()"
   ]
  },
  {
   "cell_type": "code",
   "execution_count": null,
   "id": "dcbe590c",
   "metadata": {},
   "outputs": [],
   "source": []
  }
 ],
 "metadata": {
  "kernelspec": {
   "display_name": "Python 3 (ipykernel)",
   "language": "python",
   "name": "python3"
  },
  "language_info": {
   "codemirror_mode": {
    "name": "ipython",
    "version": 3
   },
   "file_extension": ".py",
   "mimetype": "text/x-python",
   "name": "python",
   "nbconvert_exporter": "python",
   "pygments_lexer": "ipython3",
   "version": "3.8.10"
  }
 },
 "nbformat": 4,
 "nbformat_minor": 5
}
