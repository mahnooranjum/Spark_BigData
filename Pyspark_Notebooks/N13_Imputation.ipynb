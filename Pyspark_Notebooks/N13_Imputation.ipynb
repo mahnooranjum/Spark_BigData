{
 "cells": [
  {
   "cell_type": "code",
   "execution_count": 1,
   "id": "c61bbdc9",
   "metadata": {},
   "outputs": [],
   "source": [
    "import pyspark"
   ]
  },
  {
   "cell_type": "code",
   "execution_count": 2,
   "id": "7ec807e3",
   "metadata": {},
   "outputs": [],
   "source": [
    "from pyspark.sql import SparkSession"
   ]
  },
  {
   "cell_type": "code",
   "execution_count": 3,
   "id": "cb7feec3",
   "metadata": {},
   "outputs": [
    {
     "name": "stderr",
     "output_type": "stream",
     "text": [
      "22/06/27 09:38:19 WARN Utils: Your hostname, adept-VirtualBox resolves to a loopback address: 127.0.1.1; using 10.0.2.15 instead (on interface enp0s3)\n",
      "22/06/27 09:38:19 WARN Utils: Set SPARK_LOCAL_IP if you need to bind to another address\n",
      "WARNING: An illegal reflective access operation has occurred\n",
      "WARNING: Illegal reflective access by org.apache.spark.unsafe.Platform (file:/home/adept/.local/lib/python3.8/site-packages/pyspark/jars/spark-unsafe_2.12-3.2.1.jar) to constructor java.nio.DirectByteBuffer(long,int)\n",
      "WARNING: Please consider reporting this to the maintainers of org.apache.spark.unsafe.Platform\n",
      "WARNING: Use --illegal-access=warn to enable warnings of further illegal reflective access operations\n",
      "WARNING: All illegal access operations will be denied in a future release\n",
      "Using Spark's default log4j profile: org/apache/spark/log4j-defaults.properties\n",
      "Setting default log level to \"WARN\".\n",
      "To adjust logging level use sc.setLogLevel(newLevel). For SparkR, use setLogLevel(newLevel).\n",
      "22/06/27 09:38:26 WARN NativeCodeLoader: Unable to load native-hadoop library for your platform... using builtin-java classes where applicable\n"
     ]
    }
   ],
   "source": [
    "spark = SparkSession.builder.appName('Basic').getOrCreate()"
   ]
  },
  {
   "cell_type": "code",
   "execution_count": 4,
   "id": "ca5472c5",
   "metadata": {},
   "outputs": [
    {
     "name": "stderr",
     "output_type": "stream",
     "text": [
      "                                                                                \r"
     ]
    }
   ],
   "source": [
    "df = spark.read.csv(\"./fakefriends_nulls.csv\")"
   ]
  },
  {
   "cell_type": "code",
   "execution_count": 5,
   "id": "b66463fd",
   "metadata": {},
   "outputs": [
    {
     "name": "stdout",
     "output_type": "stream",
     "text": [
      "root\n",
      " |-- _c0: string (nullable = true)\n",
      " |-- _c1: string (nullable = true)\n",
      " |-- _c2: string (nullable = true)\n",
      " |-- _c3: string (nullable = true)\n",
      "\n"
     ]
    }
   ],
   "source": [
    "df.printSchema()"
   ]
  },
  {
   "cell_type": "code",
   "execution_count": 6,
   "id": "6db5d4c6",
   "metadata": {},
   "outputs": [],
   "source": [
    "# df = spark.read.csv(\"/home/maq/Datasets/customer_churn.csv\", header = True)\n",
    "# df.printSchema()"
   ]
  },
  {
   "cell_type": "code",
   "execution_count": 7,
   "id": "f068d3c7",
   "metadata": {},
   "outputs": [
    {
     "data": {
      "text/plain": [
       "['_c0', '_c1', '_c2', '_c3']"
      ]
     },
     "execution_count": 7,
     "metadata": {},
     "output_type": "execute_result"
    }
   ],
   "source": [
    "df.columns"
   ]
  },
  {
   "cell_type": "code",
   "execution_count": 8,
   "id": "62a00544",
   "metadata": {},
   "outputs": [
    {
     "name": "stderr",
     "output_type": "stream",
     "text": [
      "                                                                                \r"
     ]
    },
    {
     "data": {
      "text/plain": [
       "DataFrame[summary: string, _c0: string, _c1: string, _c2: string, _c3: string]"
      ]
     },
     "execution_count": 8,
     "metadata": {},
     "output_type": "execute_result"
    }
   ],
   "source": [
    "df.describe()"
   ]
  },
  {
   "cell_type": "code",
   "execution_count": 9,
   "id": "146d9b66",
   "metadata": {},
   "outputs": [],
   "source": [
    "# df = spark.read.csv(\"/home/maq/Datasets/customer_churn.csv\", header = True, inferSchema=True)\n",
    "# df.printSchema()"
   ]
  },
  {
   "cell_type": "code",
   "execution_count": 10,
   "id": "00ee4cf9",
   "metadata": {},
   "outputs": [
    {
     "data": {
      "text/plain": [
       "Row(_c0='0', _c1='Will', _c2='33', _c3='385')"
      ]
     },
     "execution_count": 10,
     "metadata": {},
     "output_type": "execute_result"
    }
   ],
   "source": [
    "df.head()"
   ]
  },
  {
   "cell_type": "code",
   "execution_count": 13,
   "id": "a364925b",
   "metadata": {},
   "outputs": [
    {
     "name": "stdout",
     "output_type": "stream",
     "text": [
      "+---+--------+---+---+\n",
      "|_c0|     _c1|_c2|_c3|\n",
      "+---+--------+---+---+\n",
      "|  0|    Will| 33|385|\n",
      "|  1|Jean-Luc| 26|  2|\n",
      "|  2|    Hugh| 55|221|\n",
      "|  3|  Deanna| 40|465|\n",
      "|  5|  Weyoun| 59|318|\n",
      "|  6|  Gowron| 37|220|\n",
      "|  7|    Will| 54|307|\n",
      "|  8|  Jadzia| 38|380|\n",
      "| 10|     Odo| 53|191|\n",
      "| 11|     Ben| 57|372|\n",
      "| 12|   Keiko| 54|253|\n",
      "| 13|Jean-Luc| 56|444|\n",
      "| 15|     Rom| 36| 49|\n",
      "| 16|  Weyoun| 22|323|\n",
      "| 17|     Odo| 35| 13|\n",
      "| 18|Jean-Luc| 45|455|\n",
      "| 20|     Odo| 67|220|\n",
      "| 22|   Quark| 30| 72|\n",
      "| 23|   Keiko| 51|271|\n",
      "| 24|  Julian| 25|  1|\n",
      "+---+--------+---+---+\n",
      "only showing top 20 rows\n",
      "\n"
     ]
    }
   ],
   "source": [
    "df.na.drop().show()"
   ]
  },
  {
   "cell_type": "code",
   "execution_count": 15,
   "id": "37d76013",
   "metadata": {},
   "outputs": [],
   "source": [
    "dicto = {col:df.filter(df[col].isNull()).count() for col in df.columns}"
   ]
  },
  {
   "cell_type": "code",
   "execution_count": 16,
   "id": "e4119949",
   "metadata": {},
   "outputs": [
    {
     "data": {
      "text/plain": [
       "{'_c0': 0, '_c1': 10, '_c2': 7, '_c3': 7}"
      ]
     },
     "execution_count": 16,
     "metadata": {},
     "output_type": "execute_result"
    }
   ],
   "source": [
    "dicto"
   ]
  },
  {
   "cell_type": "code",
   "execution_count": 17,
   "id": "17e898be",
   "metadata": {},
   "outputs": [
    {
     "name": "stdout",
     "output_type": "stream",
     "text": [
      "+---+-----+\n",
      "|_c2|count|\n",
      "+---+-----+\n",
      "| 51|    7|\n",
      "| 54|   12|\n",
      "| 69|    9|\n",
      "| 29|   11|\n",
      "| 42|    6|\n",
      "| 64|   12|\n",
      "| 30|   11|\n",
      "| 34|    6|\n",
      "| 59|    8|\n",
      "| 22|    7|\n",
      "| 28|   10|\n",
      "| 35|    8|\n",
      "| 52|   11|\n",
      "| 47|    9|\n",
      "| 43|    6|\n",
      "| 31|    8|\n",
      "| 18|    8|\n",
      "| 27|    7|\n",
      "| 61|    9|\n",
      "| 26|   17|\n",
      "+---+-----+\n",
      "only showing top 20 rows\n",
      "\n"
     ]
    }
   ],
   "source": [
    "df.na.drop().groupBy('_c2').count().show()"
   ]
  },
  {
   "cell_type": "code",
   "execution_count": 18,
   "id": "f2472f53",
   "metadata": {},
   "outputs": [],
   "source": [
    "# df.na.drop(thresh = 3).groupBy('Age').count().show()"
   ]
  },
  {
   "cell_type": "code",
   "execution_count": 19,
   "id": "e4a48249",
   "metadata": {},
   "outputs": [],
   "source": [
    "# df.na.drop(how = 'all').groupBy('Age').count().show()"
   ]
  },
  {
   "cell_type": "code",
   "execution_count": 20,
   "id": "2da2d5b8",
   "metadata": {},
   "outputs": [],
   "source": [
    "# df.na.drop(subset = ['Age']).select('Age').show()"
   ]
  },
  {
   "cell_type": "code",
   "execution_count": 21,
   "id": "5f3aa5bf",
   "metadata": {},
   "outputs": [
    {
     "name": "stdout",
     "output_type": "stream",
     "text": [
      "+--------+\n",
      "|     _c1|\n",
      "+--------+\n",
      "|    Will|\n",
      "|Jean-Luc|\n",
      "|    Hugh|\n",
      "|  Deanna|\n",
      "| MISSING|\n",
      "|  Weyoun|\n",
      "|  Gowron|\n",
      "|    Will|\n",
      "|  Jadzia|\n",
      "|    Hugh|\n",
      "|     Odo|\n",
      "|     Ben|\n",
      "|   Keiko|\n",
      "|Jean-Luc|\n",
      "| MISSING|\n",
      "|     Rom|\n",
      "|  Weyoun|\n",
      "|     Odo|\n",
      "|Jean-Luc|\n",
      "|  Geordi|\n",
      "+--------+\n",
      "only showing top 20 rows\n",
      "\n"
     ]
    }
   ],
   "source": [
    "df.na.fill('MISSING').select('_c1').show()"
   ]
  },
  {
   "cell_type": "code",
   "execution_count": 23,
   "id": "580420b0",
   "metadata": {},
   "outputs": [
    {
     "name": "stdout",
     "output_type": "stream",
     "text": [
      "+---+\n",
      "|_c2|\n",
      "+---+\n",
      "| 33|\n",
      "| 26|\n",
      "| 55|\n",
      "| 40|\n",
      "| 68|\n",
      "| 59|\n",
      "| 37|\n",
      "| 54|\n",
      "| 38|\n",
      "|  0|\n",
      "| 53|\n",
      "| 57|\n",
      "| 54|\n",
      "| 56|\n",
      "| 43|\n",
      "| 36|\n",
      "| 22|\n",
      "| 35|\n",
      "| 45|\n",
      "|  0|\n",
      "+---+\n",
      "only showing top 20 rows\n",
      "\n"
     ]
    }
   ],
   "source": [
    "df.na.fill('0').select('_c2').show()"
   ]
  },
  {
   "cell_type": "code",
   "execution_count": 28,
   "id": "beb35763",
   "metadata": {},
   "outputs": [
    {
     "name": "stdout",
     "output_type": "stream",
     "text": [
      "+--------+-----+\n",
      "|     _c1|count|\n",
      "+--------+-----+\n",
      "|    Data|   25|\n",
      "| Beverly|   20|\n",
      "|    Hugh|   19|\n",
      "|   Dukat|   20|\n",
      "|Jean-Luc|   16|\n",
      "|    null|   10|\n",
      "|     Nog|   22|\n",
      "|     Odo|   14|\n",
      "|  Kasidy|   18|\n",
      "|  Guinan|   12|\n",
      "|   Leeta|   15|\n",
      "|     Rom|   12|\n",
      "|  Geordi|   20|\n",
      "|   Brunt|   21|\n",
      "|  Deanna|   17|\n",
      "|     Ben|   17|\n",
      "|  Weyoun|   15|\n",
      "|   Miles|   10|\n",
      "|    Will|   19|\n",
      "|  Julian|   12|\n",
      "| Lwaxana|   12|\n",
      "|  Jadzia|   12|\n",
      "|    Ezri|   19|\n",
      "|   Keiko|   21|\n",
      "|    Elim|   12|\n",
      "|    Worf|   13|\n",
      "|   Nerys|   19|\n",
      "|   Quark|   19|\n",
      "|  Martok|   12|\n",
      "|    Morn|   15|\n",
      "|  Gowron|   12|\n",
      "+--------+-----+\n",
      "\n"
     ]
    }
   ],
   "source": [
    "# df.na.fill('MISSING', subset = ['Company']).select('Company').show()\n",
    "df.groupBy('_c1').count().show(50)"
   ]
  },
  {
   "cell_type": "code",
   "execution_count": 29,
   "id": "8f81cdb0",
   "metadata": {},
   "outputs": [],
   "source": [
    "# from pyspark.sql.functions import mean \n",
    "# mean_val = df.select(mean(df['Age'])).collect()\n",
    "# mean_val\n",
    "# mean_val[0][0]\n",
    "\n",
    "# df.na.fill(mean_val[0][0], subset=['Age']).select('Age').show()"
   ]
  },
  {
   "cell_type": "code",
   "execution_count": 30,
   "id": "b3c33439",
   "metadata": {},
   "outputs": [
    {
     "name": "stderr",
     "output_type": "stream",
     "text": [
      "                                                                                \r"
     ]
    }
   ],
   "source": [
    "from pyspark.ml.feature import Imputer \n",
    "\n",
    "imputer = Imputer()\n",
    "df = spark.read.csv(\"./fakefriends_nulls.csv\", inferSchema=True)\n",
    "\n"
   ]
  },
  {
   "cell_type": "code",
   "execution_count": 31,
   "id": "8db977b7",
   "metadata": {},
   "outputs": [
    {
     "name": "stdout",
     "output_type": "stream",
     "text": [
      "root\n",
      " |-- _c0: integer (nullable = true)\n",
      " |-- _c1: string (nullable = true)\n",
      " |-- _c2: integer (nullable = true)\n",
      " |-- _c3: integer (nullable = true)\n",
      "\n"
     ]
    }
   ],
   "source": [
    "df.printSchema()"
   ]
  },
  {
   "cell_type": "code",
   "execution_count": 35,
   "id": "86ed3685",
   "metadata": {},
   "outputs": [
    {
     "data": {
      "text/plain": [
       "Imputer_f041188fa2af"
      ]
     },
     "execution_count": 35,
     "metadata": {},
     "output_type": "execute_result"
    }
   ],
   "source": [
    "imputer.setInputCols(['_c2', '_c3'])\n",
    "imputer.setOutputCols(['_c2', '_c3'])\n"
   ]
  },
  {
   "cell_type": "code",
   "execution_count": 36,
   "id": "aa53330f",
   "metadata": {},
   "outputs": [
    {
     "data": {
      "text/plain": [
       "0.001"
      ]
     },
     "execution_count": 36,
     "metadata": {},
     "output_type": "execute_result"
    }
   ],
   "source": [
    "imputer.getRelativeError()"
   ]
  },
  {
   "cell_type": "code",
   "execution_count": 37,
   "id": "bbad7263",
   "metadata": {},
   "outputs": [],
   "source": [
    "model = imputer.fit(df)"
   ]
  },
  {
   "cell_type": "code",
   "execution_count": 38,
   "id": "f73078ee",
   "metadata": {},
   "outputs": [
    {
     "data": {
      "text/plain": [
       "'mean'"
      ]
     },
     "execution_count": 38,
     "metadata": {},
     "output_type": "execute_result"
    }
   ],
   "source": [
    "'''\n",
    "\n",
    "'''\n",
    "\n",
    "model.getStrategy()"
   ]
  },
  {
   "cell_type": "code",
   "execution_count": 39,
   "id": "5bedf97c",
   "metadata": {},
   "outputs": [
    {
     "name": "stderr",
     "output_type": "stream",
     "text": [
      "/home/adept/.local/lib/python3.8/site-packages/pyspark/sql/context.py:125: FutureWarning: Deprecated in 3.0.0. Use SparkSession.builder.getOrCreate() instead.\n",
      "  warnings.warn(\n",
      "[Stage 42:>                                                         (0 + 1) / 1]\r"
     ]
    },
    {
     "name": "stdout",
     "output_type": "stream",
     "text": [
      "+-----------------+------------------+\n",
      "|              _c2|               _c3|\n",
      "+-----------------+------------------+\n",
      "|43.74645030425963|248.78093306288034|\n",
      "+-----------------+------------------+\n",
      "\n"
     ]
    },
    {
     "name": "stderr",
     "output_type": "stream",
     "text": [
      "                                                                                \r"
     ]
    }
   ],
   "source": [
    "model.surrogateDF.show()"
   ]
  },
  {
   "cell_type": "code",
   "execution_count": 40,
   "id": "7f1a338c",
   "metadata": {},
   "outputs": [
    {
     "name": "stdout",
     "output_type": "stream",
     "text": [
      "+---+--------+---+---+\n",
      "|_c0|     _c1|_c2|_c3|\n",
      "+---+--------+---+---+\n",
      "|  0|    Will| 33|385|\n",
      "|  1|Jean-Luc| 26|  2|\n",
      "|  2|    Hugh| 55|221|\n",
      "|  3|  Deanna| 40|465|\n",
      "|  4|    null| 68| 21|\n",
      "|  5|  Weyoun| 59|318|\n",
      "|  6|  Gowron| 37|220|\n",
      "|  7|    Will| 54|307|\n",
      "|  8|  Jadzia| 38|380|\n",
      "|  9|    Hugh| 43|181|\n",
      "| 10|     Odo| 53|191|\n",
      "| 11|     Ben| 57|372|\n",
      "| 12|   Keiko| 54|253|\n",
      "| 13|Jean-Luc| 56|444|\n",
      "| 14|    null| 43| 49|\n",
      "| 15|     Rom| 36| 49|\n",
      "| 16|  Weyoun| 22|323|\n",
      "| 17|     Odo| 35| 13|\n",
      "| 18|Jean-Luc| 45|455|\n",
      "| 19|  Geordi| 43|246|\n",
      "+---+--------+---+---+\n",
      "only showing top 20 rows\n",
      "\n"
     ]
    }
   ],
   "source": [
    "model.transform(df).show()"
   ]
  },
  {
   "cell_type": "code",
   "execution_count": 41,
   "id": "3a758ba1",
   "metadata": {},
   "outputs": [
    {
     "name": "stderr",
     "output_type": "stream",
     "text": [
      "                                                                                \r"
     ]
    }
   ],
   "source": [
    "model.transform(df).write.format('csv').coalesce(1).save('./something.csv')"
   ]
  },
  {
   "cell_type": "code",
   "execution_count": null,
   "id": "b91d7f14",
   "metadata": {},
   "outputs": [],
   "source": []
  }
 ],
 "metadata": {
  "kernelspec": {
   "display_name": "Python 3.8.10 64-bit",
   "language": "python",
   "name": "python3"
  },
  "language_info": {
   "codemirror_mode": {
    "name": "ipython",
    "version": 3
   },
   "file_extension": ".py",
   "mimetype": "text/x-python",
   "name": "python",
   "nbconvert_exporter": "python",
   "pygments_lexer": "ipython3",
   "version": "3.8.10"
  },
  "vscode": {
   "interpreter": {
    "hash": "916dbcbb3f70747c44a77c7bcd40155683ae19c65e1c03b4aa3499c5328201f1"
   }
  }
 },
 "nbformat": 4,
 "nbformat_minor": 5
}
