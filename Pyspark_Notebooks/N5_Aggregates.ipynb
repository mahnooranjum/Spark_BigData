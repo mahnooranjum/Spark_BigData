{
 "cells": [
  {
   "cell_type": "code",
   "execution_count": 1,
   "id": "c61bbdc9",
   "metadata": {},
   "outputs": [],
   "source": [
    "import pyspark"
   ]
  },
  {
   "cell_type": "code",
   "execution_count": 2,
   "id": "7ec807e3",
   "metadata": {},
   "outputs": [],
   "source": [
    "from pyspark.sql import SparkSession"
   ]
  },
  {
   "cell_type": "code",
   "execution_count": 3,
   "id": "cb7feec3",
   "metadata": {},
   "outputs": [
    {
     "name": "stderr",
     "output_type": "stream",
     "text": [
      "21/11/24 00:10:50 WARN Utils: Your hostname, maq-VirtualBox resolves to a loopback address: 127.0.1.1; using 10.0.2.15 instead (on interface enp0s3)\n",
      "21/11/24 00:10:50 WARN Utils: Set SPARK_LOCAL_IP if you need to bind to another address\n",
      "WARNING: An illegal reflective access operation has occurred\n",
      "WARNING: Illegal reflective access by org.apache.spark.unsafe.Platform (file:/home/maq/spark-3.2.0-bin-hadoop3.2/jars/spark-unsafe_2.12-3.2.0.jar) to constructor java.nio.DirectByteBuffer(long,int)\n",
      "WARNING: Please consider reporting this to the maintainers of org.apache.spark.unsafe.Platform\n",
      "WARNING: Use --illegal-access=warn to enable warnings of further illegal reflective access operations\n",
      "WARNING: All illegal access operations will be denied in a future release\n",
      "Using Spark's default log4j profile: org/apache/spark/log4j-defaults.properties\n",
      "Setting default log level to \"WARN\".\n",
      "To adjust logging level use sc.setLogLevel(newLevel). For SparkR, use setLogLevel(newLevel).\n",
      "21/11/24 00:10:51 WARN NativeCodeLoader: Unable to load native-hadoop library for your platform... using builtin-java classes where applicable\n"
     ]
    }
   ],
   "source": [
    "spark = SparkSession.builder.appName('Basic').getOrCreate()"
   ]
  },
  {
   "cell_type": "code",
   "execution_count": 4,
   "id": "ca5472c5",
   "metadata": {},
   "outputs": [
    {
     "name": "stderr",
     "output_type": "stream",
     "text": [
      "\r",
      "[Stage 0:===========================================================(1 + 0) / 1]\r",
      "\r",
      "                                                                                \r"
     ]
    }
   ],
   "source": [
    "df = spark.read.csv(\"/home/maq/Datasets/customer_churn.csv\")"
   ]
  },
  {
   "cell_type": "code",
   "execution_count": 5,
   "id": "b66463fd",
   "metadata": {},
   "outputs": [
    {
     "name": "stdout",
     "output_type": "stream",
     "text": [
      "root\n",
      " |-- _c0: string (nullable = true)\n",
      " |-- _c1: string (nullable = true)\n",
      " |-- _c2: string (nullable = true)\n",
      " |-- _c3: string (nullable = true)\n",
      " |-- _c4: string (nullable = true)\n",
      " |-- _c5: string (nullable = true)\n",
      " |-- _c6: string (nullable = true)\n",
      " |-- _c7: string (nullable = true)\n",
      " |-- _c8: string (nullable = true)\n",
      " |-- _c9: string (nullable = true)\n",
      "\n"
     ]
    }
   ],
   "source": [
    "df.printSchema()"
   ]
  },
  {
   "cell_type": "code",
   "execution_count": 6,
   "id": "6db5d4c6",
   "metadata": {},
   "outputs": [
    {
     "name": "stdout",
     "output_type": "stream",
     "text": [
      "root\n",
      " |-- Names: string (nullable = true)\n",
      " |-- Age: string (nullable = true)\n",
      " |-- Total_Purchase: string (nullable = true)\n",
      " |-- Account_Manager: string (nullable = true)\n",
      " |-- Years: string (nullable = true)\n",
      " |-- Num_Sites: string (nullable = true)\n",
      " |-- Onboard_date: string (nullable = true)\n",
      " |-- Location: string (nullable = true)\n",
      " |-- Company: string (nullable = true)\n",
      " |-- Churn: string (nullable = true)\n",
      "\n"
     ]
    }
   ],
   "source": [
    "df = spark.read.csv(\"/home/maq/Datasets/customer_churn.csv\", header = True)\n",
    "df.printSchema()"
   ]
  },
  {
   "cell_type": "code",
   "execution_count": 7,
   "id": "f068d3c7",
   "metadata": {},
   "outputs": [
    {
     "data": {
      "text/plain": [
       "['Names',\n",
       " 'Age',\n",
       " 'Total_Purchase',\n",
       " 'Account_Manager',\n",
       " 'Years',\n",
       " 'Num_Sites',\n",
       " 'Onboard_date',\n",
       " 'Location',\n",
       " 'Company',\n",
       " 'Churn']"
      ]
     },
     "execution_count": 7,
     "metadata": {},
     "output_type": "execute_result"
    }
   ],
   "source": [
    "df.columns"
   ]
  },
  {
   "cell_type": "code",
   "execution_count": 8,
   "id": "62a00544",
   "metadata": {},
   "outputs": [
    {
     "name": "stderr",
     "output_type": "stream",
     "text": [
      "                                                                                \r"
     ]
    },
    {
     "data": {
      "text/plain": [
       "DataFrame[summary: string, Names: string, Age: string, Total_Purchase: string, Account_Manager: string, Years: string, Num_Sites: string, Onboard_date: string, Location: string, Company: string, Churn: string]"
      ]
     },
     "execution_count": 8,
     "metadata": {},
     "output_type": "execute_result"
    }
   ],
   "source": [
    "df.describe()"
   ]
  },
  {
   "cell_type": "code",
   "execution_count": 9,
   "id": "c68dd366",
   "metadata": {},
   "outputs": [
    {
     "name": "stdout",
     "output_type": "stream",
     "text": [
      "root\n",
      " |-- Names: string (nullable = true)\n",
      " |-- Age: string (nullable = true)\n",
      " |-- Total_Purchase: string (nullable = true)\n",
      " |-- Account_Manager: integer (nullable = true)\n",
      " |-- Years: double (nullable = true)\n",
      " |-- Num_Sites: double (nullable = true)\n",
      " |-- Onboard_date: string (nullable = true)\n",
      " |-- Location: string (nullable = true)\n",
      " |-- Company: string (nullable = true)\n",
      " |-- Churn: string (nullable = true)\n",
      "\n"
     ]
    }
   ],
   "source": [
    "df = spark.read.csv(\"/home/maq/Datasets/customer_churn.csv\", header = True, inferSchema=True)\n",
    "df.printSchema()"
   ]
  },
  {
   "cell_type": "code",
   "execution_count": 10,
   "id": "034df7a1",
   "metadata": {},
   "outputs": [
    {
     "data": {
      "text/plain": [
       "Row(Names='Cameron Williams', Age='42.0', Total_Purchase='11066.8', Account_Manager=0, Years=7.22, Num_Sites=8.0, Onboard_date='2013-08-30 07:00:40', Location='10265 Elizabeth Mission', Company=None, Churn=None)"
      ]
     },
     "execution_count": 10,
     "metadata": {},
     "output_type": "execute_result"
    }
   ],
   "source": [
    "df.head()"
   ]
  },
  {
   "cell_type": "code",
   "execution_count": 11,
   "id": "8ccc23ea",
   "metadata": {},
   "outputs": [
    {
     "data": {
      "text/plain": [
       "<pyspark.sql.group.GroupedData at 0x7fb43c0671f0>"
      ]
     },
     "execution_count": 11,
     "metadata": {},
     "output_type": "execute_result"
    }
   ],
   "source": [
    "df.groupBy('Age')"
   ]
  },
  {
   "cell_type": "code",
   "execution_count": 12,
   "id": "9f21ca9d",
   "metadata": {},
   "outputs": [
    {
     "name": "stderr",
     "output_type": "stream",
     "text": [
      "\r",
      "[Stage 8:>                                                          (0 + 1) / 1]\r"
     ]
    },
    {
     "name": "stdout",
     "output_type": "stream",
     "text": [
      "+--------------------+--------------------+----------+--------------+\n",
      "|                 Age|avg(Account_Manager)|avg(Years)|avg(Num_Sites)|\n",
      "+--------------------+--------------------+----------+--------------+\n",
      "|          Obrien PLC|                null|      null|          null|\n",
      "|      IL 43853-4718\"|                 0.0|      null|          null|\n",
      "|          Hall Group|                null|      null|          null|\n",
      "|      CO 28918-5500\"|                 1.0|      null|          null|\n",
      "|           KY 66125\"|                 1.0|      null|          null|\n",
      "|Freeman, Lam and ...|                null|      null|          null|\n",
      "|      AZ 06819-5978\"|                 0.0|      null|          null|\n",
      "|       Smith-Carroll|                null|      null|          null|\n",
      "|Hall, Hernandez a...|                null|      null|          null|\n",
      "|      VI 31105-1539\"|                 1.0|      null|          null|\n",
      "|      OR 20046-4343\"|                 1.0|      null|          null|\n",
      "|           NJ 33304\"|                 0.0|      null|          null|\n",
      "|           HI 48528\"|                 0.0|      null|          null|\n",
      "|Jennings, Gates a...|                null|      null|          null|\n",
      "|      FL 73286-2490\"|                 0.0|      null|          null|\n",
      "|           NE 05818\"|                 0.0|      null|          null|\n",
      "|      ND 95345-7872\"|                 0.0|      null|          null|\n",
      "|Hernandez, Middle...|                null|      null|          null|\n",
      "|      NH 24241-9525\"|                 0.0|      null|          null|\n",
      "|           AZ 05753\"|                 0.0|      null|          null|\n",
      "+--------------------+--------------------+----------+--------------+\n",
      "only showing top 20 rows\n",
      "\n"
     ]
    },
    {
     "name": "stderr",
     "output_type": "stream",
     "text": [
      "\r",
      "                                                                                \r"
     ]
    }
   ],
   "source": [
    "df.groupBy('Age').mean().show()"
   ]
  },
  {
   "cell_type": "code",
   "execution_count": 13,
   "id": "3a6365b8",
   "metadata": {},
   "outputs": [
    {
     "name": "stdout",
     "output_type": "stream",
     "text": [
      "+---------------+--------------------+-----------------+-----------------+\n",
      "|Account_Manager|avg(Account_Manager)|       avg(Years)|   avg(Num_Sites)|\n",
      "+---------------+--------------------+-----------------+-----------------+\n",
      "|              1|                 1.0| 5.30348729792148|8.648960739030024|\n",
      "|              0|                 0.0|5.245032119914349|8.531049250535332|\n",
      "|           null|                null|             null|             null|\n",
      "+---------------+--------------------+-----------------+-----------------+\n",
      "\n"
     ]
    }
   ],
   "source": [
    "df.groupBy('Account_Manager').mean().show()"
   ]
  },
  {
   "cell_type": "code",
   "execution_count": 15,
   "id": "4c719cd5",
   "metadata": {},
   "outputs": [
    {
     "name": "stdout",
     "output_type": "stream",
     "text": [
      "+--------+\n",
      "|sum(Age)|\n",
      "+--------+\n",
      "| 37635.0|\n",
      "+--------+\n",
      "\n"
     ]
    }
   ],
   "source": [
    "df.agg({'Age':'sum'}).show()"
   ]
  },
  {
   "cell_type": "code",
   "execution_count": 17,
   "id": "4029a881",
   "metadata": {},
   "outputs": [
    {
     "name": "stdout",
     "output_type": "stream",
     "text": [
      "+---------------+------------------+\n",
      "|Account_Manager|          avg(Age)|\n",
      "+---------------+------------------+\n",
      "|              1|41.722863741339495|\n",
      "|              0|41.903640256959314|\n",
      "|           null|              null|\n",
      "+---------------+------------------+\n",
      "\n"
     ]
    }
   ],
   "source": [
    "df.groupBy('Account_Manager').agg({'Age': 'mean'}).show()"
   ]
  },
  {
   "cell_type": "code",
   "execution_count": 18,
   "id": "ae295366",
   "metadata": {},
   "outputs": [],
   "source": [
    "from pyspark.sql.functions import countDistinct, avg, stddev"
   ]
  },
  {
   "cell_type": "code",
   "execution_count": 19,
   "id": "e95e9961",
   "metadata": {},
   "outputs": [
    {
     "name": "stdout",
     "output_type": "stream",
     "text": [
      "+-------------------+\n",
      "|count(DISTINCT Age)|\n",
      "+-------------------+\n",
      "|                935|\n",
      "+-------------------+\n",
      "\n"
     ]
    }
   ],
   "source": [
    "df.select(countDistinct('Age')).show()"
   ]
  },
  {
   "cell_type": "code",
   "execution_count": 46,
   "id": "abdb9234",
   "metadata": {},
   "outputs": [
    {
     "name": "stdout",
     "output_type": "stream",
     "text": [
      "+-----------------+\n",
      "|         avg(Age)|\n",
      "+-----------------+\n",
      "|41.81666666666667|\n",
      "+-----------------+\n",
      "\n"
     ]
    }
   ],
   "source": [
    "df.select(avg('Age')).show()"
   ]
  },
  {
   "cell_type": "code",
   "execution_count": 47,
   "id": "9dc6e278",
   "metadata": {},
   "outputs": [
    {
     "name": "stdout",
     "output_type": "stream",
     "text": [
      "+-----------------+\n",
      "| stddev_samp(Age)|\n",
      "+-----------------+\n",
      "|6.127560416916251|\n",
      "+-----------------+\n",
      "\n"
     ]
    }
   ],
   "source": [
    "df.select(stddev('Age')).show()"
   ]
  },
  {
   "cell_type": "code",
   "execution_count": 48,
   "id": "cd77319c",
   "metadata": {},
   "outputs": [],
   "source": [
    "from pyspark.sql.functions import format_number\n",
    "std = df.select(stddev('Age').alias('std'))"
   ]
  },
  {
   "cell_type": "code",
   "execution_count": 49,
   "id": "03f3a9bc",
   "metadata": {},
   "outputs": [
    {
     "name": "stdout",
     "output_type": "stream",
     "text": [
      "+-----------------+\n",
      "|              std|\n",
      "+-----------------+\n",
      "|6.127560416916251|\n",
      "+-----------------+\n",
      "\n"
     ]
    }
   ],
   "source": [
    "std.show()"
   ]
  },
  {
   "cell_type": "code",
   "execution_count": 58,
   "id": "694f7f5e",
   "metadata": {},
   "outputs": [
    {
     "name": "stdout",
     "output_type": "stream",
     "text": [
      "+----+\n",
      "| std|\n",
      "+----+\n",
      "|6.13|\n",
      "+----+\n",
      "\n"
     ]
    }
   ],
   "source": [
    "std.select(format_number('std', 2).alias('std')).show()"
   ]
  },
  {
   "cell_type": "code",
   "execution_count": 59,
   "id": "44e776c0",
   "metadata": {},
   "outputs": [
    {
     "name": "stdout",
     "output_type": "stream",
     "text": [
      "+-----------------+\n",
      "|            Names|\n",
      "+-----------------+\n",
      "|     Michaelburgh|\n",
      "|       Amandaside|\n",
      "|        South Amy|\n",
      "|      Robertstown|\n",
      "|       Colleenton|\n",
      "|     Sanchezshire|\n",
      "|   Lake Davidside|\n",
      "|      Robertshire|\n",
      "|  Port Austinbury|\n",
      "| New Richardshire|\n",
      "|      Fischerbury|\n",
      "|    Ronnieborough|\n",
      "|    Mckinneymouth|\n",
      "|       Port Wyatt|\n",
      "|      Barkerburgh|\n",
      "|      Michaelside|\n",
      "|        Berryport|\n",
      "|     West Brandon|\n",
      "|     Jasminemouth|\n",
      "|New Elizabethberg|\n",
      "+-----------------+\n",
      "only showing top 20 rows\n",
      "\n"
     ]
    }
   ],
   "source": [
    "df.orderBy(df['Age'].asc()).select('Names').show()"
   ]
  },
  {
   "cell_type": "code",
   "execution_count": 60,
   "id": "ca5de563",
   "metadata": {},
   "outputs": [
    {
     "name": "stdout",
     "output_type": "stream",
     "text": [
      "+------------------+\n",
      "|             Names|\n",
      "+------------------+\n",
      "|APO AA 45232-2030\"|\n",
      "|     DPO AP 13281\"|\n",
      "|DPO AA 36768-7501\"|\n",
      "|     APO AA 67843\"|\n",
      "|DPO AP 09454-8286\"|\n",
      "|     APO AA 00585\"|\n",
      "|APO AP 11064-1547\"|\n",
      "|DPO AA 88767-0662\"|\n",
      "|     DPO AP 02154\"|\n",
      "|APO AA 49368-5290\"|\n",
      "|     APO AP 73140\"|\n",
      "|APO AA 69767-2977\"|\n",
      "|     DPO AP 33602\"|\n",
      "|FPO AA 06534-5672\"|\n",
      "|APO AA 11178-4877\"|\n",
      "|DPO AE 56165-8636\"|\n",
      "|     DPO AA 63221\"|\n",
      "|     APO AP 43490\"|\n",
      "|DPO AA 16636-7105\"|\n",
      "|     APO AE 26505\"|\n",
      "+------------------+\n",
      "only showing top 20 rows\n",
      "\n"
     ]
    }
   ],
   "source": [
    "df.orderBy(df['Age'].desc()).select('Names').show()"
   ]
  },
  {
   "cell_type": "code",
   "execution_count": null,
   "id": "9fc35569",
   "metadata": {},
   "outputs": [],
   "source": []
  },
  {
   "cell_type": "code",
   "execution_count": null,
   "id": "530499be",
   "metadata": {},
   "outputs": [],
   "source": []
  }
 ],
 "metadata": {
  "kernelspec": {
   "display_name": "Python 3 (ipykernel)",
   "language": "python",
   "name": "python3"
  },
  "language_info": {
   "codemirror_mode": {
    "name": "ipython",
    "version": 3
   },
   "file_extension": ".py",
   "mimetype": "text/x-python",
   "name": "python",
   "nbconvert_exporter": "python",
   "pygments_lexer": "ipython3",
   "version": "3.8.10"
  }
 },
 "nbformat": 4,
 "nbformat_minor": 5
}
