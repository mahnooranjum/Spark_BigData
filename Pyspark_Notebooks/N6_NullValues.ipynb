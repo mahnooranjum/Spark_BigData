{
 "cells": [
  {
   "cell_type": "code",
   "execution_count": 1,
   "id": "c61bbdc9",
   "metadata": {},
   "outputs": [],
   "source": [
    "import pyspark"
   ]
  },
  {
   "cell_type": "code",
   "execution_count": 2,
   "id": "7ec807e3",
   "metadata": {},
   "outputs": [],
   "source": [
    "from pyspark.sql import SparkSession"
   ]
  },
  {
   "cell_type": "code",
   "execution_count": 3,
   "id": "cb7feec3",
   "metadata": {},
   "outputs": [
    {
     "name": "stderr",
     "output_type": "stream",
     "text": [
      "21/11/24 00:38:31 WARN Utils: Your hostname, maq-VirtualBox resolves to a loopback address: 127.0.1.1; using 10.0.2.15 instead (on interface enp0s3)\n",
      "21/11/24 00:38:31 WARN Utils: Set SPARK_LOCAL_IP if you need to bind to another address\n",
      "WARNING: An illegal reflective access operation has occurred\n",
      "WARNING: Illegal reflective access by org.apache.spark.unsafe.Platform (file:/home/maq/spark-3.2.0-bin-hadoop3.2/jars/spark-unsafe_2.12-3.2.0.jar) to constructor java.nio.DirectByteBuffer(long,int)\n",
      "WARNING: Please consider reporting this to the maintainers of org.apache.spark.unsafe.Platform\n",
      "WARNING: Use --illegal-access=warn to enable warnings of further illegal reflective access operations\n",
      "WARNING: All illegal access operations will be denied in a future release\n",
      "Using Spark's default log4j profile: org/apache/spark/log4j-defaults.properties\n",
      "Setting default log level to \"WARN\".\n",
      "To adjust logging level use sc.setLogLevel(newLevel). For SparkR, use setLogLevel(newLevel).\n",
      "21/11/24 00:38:32 WARN NativeCodeLoader: Unable to load native-hadoop library for your platform... using builtin-java classes where applicable\n"
     ]
    }
   ],
   "source": [
    "spark = SparkSession.builder.appName('Basic').getOrCreate()"
   ]
  },
  {
   "cell_type": "code",
   "execution_count": 4,
   "id": "ca5472c5",
   "metadata": {},
   "outputs": [
    {
     "name": "stderr",
     "output_type": "stream",
     "text": [
      "\r",
      "[Stage 0:===========================================================(1 + 0) / 1]\r",
      "\r",
      "                                                                                \r"
     ]
    }
   ],
   "source": [
    "df = spark.read.csv(\"/home/maq/Datasets/customer_churn.csv\")"
   ]
  },
  {
   "cell_type": "code",
   "execution_count": 5,
   "id": "b66463fd",
   "metadata": {},
   "outputs": [
    {
     "name": "stdout",
     "output_type": "stream",
     "text": [
      "root\n",
      " |-- _c0: string (nullable = true)\n",
      " |-- _c1: string (nullable = true)\n",
      " |-- _c2: string (nullable = true)\n",
      " |-- _c3: string (nullable = true)\n",
      " |-- _c4: string (nullable = true)\n",
      " |-- _c5: string (nullable = true)\n",
      " |-- _c6: string (nullable = true)\n",
      " |-- _c7: string (nullable = true)\n",
      " |-- _c8: string (nullable = true)\n",
      " |-- _c9: string (nullable = true)\n",
      "\n"
     ]
    }
   ],
   "source": [
    "df.printSchema()"
   ]
  },
  {
   "cell_type": "code",
   "execution_count": 6,
   "id": "6db5d4c6",
   "metadata": {},
   "outputs": [
    {
     "name": "stdout",
     "output_type": "stream",
     "text": [
      "root\n",
      " |-- Names: string (nullable = true)\n",
      " |-- Age: string (nullable = true)\n",
      " |-- Total_Purchase: string (nullable = true)\n",
      " |-- Account_Manager: string (nullable = true)\n",
      " |-- Years: string (nullable = true)\n",
      " |-- Num_Sites: string (nullable = true)\n",
      " |-- Onboard_date: string (nullable = true)\n",
      " |-- Location: string (nullable = true)\n",
      " |-- Company: string (nullable = true)\n",
      " |-- Churn: string (nullable = true)\n",
      "\n"
     ]
    }
   ],
   "source": [
    "df = spark.read.csv(\"/home/maq/Datasets/customer_churn.csv\", header = True)\n",
    "df.printSchema()"
   ]
  },
  {
   "cell_type": "code",
   "execution_count": 7,
   "id": "f068d3c7",
   "metadata": {},
   "outputs": [
    {
     "data": {
      "text/plain": [
       "['Names',\n",
       " 'Age',\n",
       " 'Total_Purchase',\n",
       " 'Account_Manager',\n",
       " 'Years',\n",
       " 'Num_Sites',\n",
       " 'Onboard_date',\n",
       " 'Location',\n",
       " 'Company',\n",
       " 'Churn']"
      ]
     },
     "execution_count": 7,
     "metadata": {},
     "output_type": "execute_result"
    }
   ],
   "source": [
    "df.columns"
   ]
  },
  {
   "cell_type": "code",
   "execution_count": 8,
   "id": "62a00544",
   "metadata": {},
   "outputs": [
    {
     "name": "stderr",
     "output_type": "stream",
     "text": [
      "                                                                                \r"
     ]
    },
    {
     "data": {
      "text/plain": [
       "DataFrame[summary: string, Names: string, Age: string, Total_Purchase: string, Account_Manager: string, Years: string, Num_Sites: string, Onboard_date: string, Location: string, Company: string, Churn: string]"
      ]
     },
     "execution_count": 8,
     "metadata": {},
     "output_type": "execute_result"
    }
   ],
   "source": [
    "df.describe()"
   ]
  },
  {
   "cell_type": "code",
   "execution_count": 9,
   "id": "146d9b66",
   "metadata": {},
   "outputs": [
    {
     "name": "stdout",
     "output_type": "stream",
     "text": [
      "root\n",
      " |-- Names: string (nullable = true)\n",
      " |-- Age: string (nullable = true)\n",
      " |-- Total_Purchase: string (nullable = true)\n",
      " |-- Account_Manager: integer (nullable = true)\n",
      " |-- Years: double (nullable = true)\n",
      " |-- Num_Sites: double (nullable = true)\n",
      " |-- Onboard_date: string (nullable = true)\n",
      " |-- Location: string (nullable = true)\n",
      " |-- Company: string (nullable = true)\n",
      " |-- Churn: string (nullable = true)\n",
      "\n"
     ]
    }
   ],
   "source": [
    "df = spark.read.csv(\"/home/maq/Datasets/customer_churn.csv\", header = True, inferSchema=True)\n",
    "df.printSchema()"
   ]
  },
  {
   "cell_type": "code",
   "execution_count": 11,
   "id": "00ee4cf9",
   "metadata": {},
   "outputs": [
    {
     "data": {
      "text/plain": [
       "Row(Names='Cameron Williams', Age='42.0', Total_Purchase='11066.8', Account_Manager=0, Years=7.22, Num_Sites=8.0, Onboard_date='2013-08-30 07:00:40', Location='10265 Elizabeth Mission', Company=None, Churn=None)"
      ]
     },
     "execution_count": 11,
     "metadata": {},
     "output_type": "execute_result"
    }
   ],
   "source": [
    "df.head()"
   ]
  },
  {
   "cell_type": "code",
   "execution_count": 12,
   "id": "a364925b",
   "metadata": {},
   "outputs": [
    {
     "name": "stdout",
     "output_type": "stream",
     "text": [
      "+-----+---+--------------+---------------+-----+---------+------------+--------+-------+-----+\n",
      "|Names|Age|Total_Purchase|Account_Manager|Years|Num_Sites|Onboard_date|Location|Company|Churn|\n",
      "+-----+---+--------------+---------------+-----+---------+------------+--------+-------+-----+\n",
      "+-----+---+--------------+---------------+-----+---------+------------+--------+-------+-----+\n",
      "\n"
     ]
    }
   ],
   "source": [
    "df.na.drop().show()"
   ]
  },
  {
   "cell_type": "code",
   "execution_count": 15,
   "id": "17e898be",
   "metadata": {},
   "outputs": [
    {
     "name": "stdout",
     "output_type": "stream",
     "text": [
      "+----+-----+\n",
      "| Age|count|\n",
      "+----+-----+\n",
      "|50.0|   15|\n",
      "|22.0|    1|\n",
      "|65.0|    1|\n",
      "|38.0|   51|\n",
      "|45.0|   56|\n",
      "|47.0|   29|\n",
      "|44.0|   53|\n",
      "|25.0|    1|\n",
      "|26.0|    2|\n",
      "|41.0|   69|\n",
      "|51.0|   21|\n",
      "|52.0|   20|\n",
      "|48.0|   36|\n",
      "|29.0|    9|\n",
      "|37.0|   48|\n",
      "|46.0|   48|\n",
      "|34.0|   25|\n",
      "|35.0|   32|\n",
      "|32.0|   18|\n",
      "|58.0|    2|\n",
      "+----+-----+\n",
      "only showing top 20 rows\n",
      "\n"
     ]
    }
   ],
   "source": [
    "df.na.drop(thresh = 8).groupBy('Age').count().show()"
   ]
  },
  {
   "cell_type": "code",
   "execution_count": 20,
   "id": "f2472f53",
   "metadata": {},
   "outputs": [
    {
     "name": "stdout",
     "output_type": "stream",
     "text": [
      "+--------------------+-----+\n",
      "|                 Age|count|\n",
      "+--------------------+-----+\n",
      "|          Obrien PLC|    1|\n",
      "|      IL 43853-4718\"|    1|\n",
      "|          Hall Group|    1|\n",
      "|      CO 28918-5500\"|    1|\n",
      "|           KY 66125\"|    1|\n",
      "|Freeman, Lam and ...|    1|\n",
      "|      AZ 06819-5978\"|    1|\n",
      "|       Smith-Carroll|    1|\n",
      "|Hall, Hernandez a...|    1|\n",
      "|      VI 31105-1539\"|    1|\n",
      "|      OR 20046-4343\"|    1|\n",
      "|           NJ 33304\"|    1|\n",
      "|           HI 48528\"|    1|\n",
      "|Jennings, Gates a...|    1|\n",
      "|      FL 73286-2490\"|    1|\n",
      "|           NE 05818\"|    1|\n",
      "|      ND 95345-7872\"|    1|\n",
      "|Hernandez, Middle...|    1|\n",
      "|      NH 24241-9525\"|    1|\n",
      "|           AZ 05753\"|    1|\n",
      "+--------------------+-----+\n",
      "only showing top 20 rows\n",
      "\n"
     ]
    }
   ],
   "source": [
    "df.na.drop(thresh = 3).groupBy('Age').count().show()"
   ]
  },
  {
   "cell_type": "code",
   "execution_count": 21,
   "id": "e4a48249",
   "metadata": {},
   "outputs": [
    {
     "name": "stdout",
     "output_type": "stream",
     "text": [
      "+--------------------+-----+\n",
      "|                 Age|count|\n",
      "+--------------------+-----+\n",
      "|          Obrien PLC|    1|\n",
      "|      IL 43853-4718\"|    1|\n",
      "|          Hall Group|    1|\n",
      "|      CO 28918-5500\"|    1|\n",
      "|           KY 66125\"|    1|\n",
      "|Freeman, Lam and ...|    1|\n",
      "|      AZ 06819-5978\"|    1|\n",
      "|       Smith-Carroll|    1|\n",
      "|Hall, Hernandez a...|    1|\n",
      "|      VI 31105-1539\"|    1|\n",
      "|      OR 20046-4343\"|    1|\n",
      "|           NJ 33304\"|    1|\n",
      "|           HI 48528\"|    1|\n",
      "|Jennings, Gates a...|    1|\n",
      "|      FL 73286-2490\"|    1|\n",
      "|           NE 05818\"|    1|\n",
      "|      ND 95345-7872\"|    1|\n",
      "|Hernandez, Middle...|    1|\n",
      "|      NH 24241-9525\"|    1|\n",
      "|           AZ 05753\"|    1|\n",
      "+--------------------+-----+\n",
      "only showing top 20 rows\n",
      "\n"
     ]
    }
   ],
   "source": [
    "df.na.drop(how = 'all').groupBy('Age').count().show()"
   ]
  },
  {
   "cell_type": "code",
   "execution_count": 22,
   "id": "2da2d5b8",
   "metadata": {},
   "outputs": [
    {
     "name": "stdout",
     "output_type": "stream",
     "text": [
      "+---------------+\n",
      "|            Age|\n",
      "+---------------+\n",
      "|           42.0|\n",
      "|      AK 89518\"|\n",
      "|           41.0|\n",
      "|      RI 17756\"|\n",
      "|           38.0|\n",
      "|      DE 90114\"|\n",
      "|           42.0|\n",
      "| WY 30645-4695\"|\n",
      "|           37.0|\n",
      "|      MH 71730\"|\n",
      "|           48.0|\n",
      "|      PR 74359\"|\n",
      "|           44.0|\n",
      "| IA 87713-3460\"|\n",
      "|           32.0|\n",
      "| FM 59852-6150\"|\n",
      "|           43.0|\n",
      "|      MA 82059\"|\n",
      "|           40.0|\n",
      "| WI 51655-7561\"|\n",
      "+---------------+\n",
      "only showing top 20 rows\n",
      "\n"
     ]
    }
   ],
   "source": [
    "df.na.drop(subset = ['Age']).select('Age').show()"
   ]
  },
  {
   "cell_type": "code",
   "execution_count": 28,
   "id": "5f3aa5bf",
   "metadata": {},
   "outputs": [
    {
     "name": "stdout",
     "output_type": "stream",
     "text": [
      "+-------+\n",
      "|Company|\n",
      "+-------+\n",
      "|MISSING|\n",
      "|MISSING|\n",
      "|MISSING|\n",
      "|MISSING|\n",
      "|MISSING|\n",
      "|MISSING|\n",
      "|MISSING|\n",
      "|MISSING|\n",
      "|MISSING|\n",
      "|MISSING|\n",
      "|MISSING|\n",
      "|MISSING|\n",
      "|MISSING|\n",
      "|MISSING|\n",
      "|MISSING|\n",
      "|MISSING|\n",
      "|MISSING|\n",
      "|MISSING|\n",
      "|MISSING|\n",
      "|MISSING|\n",
      "+-------+\n",
      "only showing top 20 rows\n",
      "\n"
     ]
    }
   ],
   "source": [
    "df.na.fill('MISSING').select('Company').show()"
   ]
  },
  {
   "cell_type": "code",
   "execution_count": 29,
   "id": "580420b0",
   "metadata": {},
   "outputs": [
    {
     "name": "stdout",
     "output_type": "stream",
     "text": [
      "+---------------+\n",
      "|            Age|\n",
      "+---------------+\n",
      "|           42.0|\n",
      "|      AK 89518\"|\n",
      "|           41.0|\n",
      "|      RI 17756\"|\n",
      "|           38.0|\n",
      "|      DE 90114\"|\n",
      "|           42.0|\n",
      "| WY 30645-4695\"|\n",
      "|           37.0|\n",
      "|      MH 71730\"|\n",
      "|           48.0|\n",
      "|      PR 74359\"|\n",
      "|           44.0|\n",
      "| IA 87713-3460\"|\n",
      "|           32.0|\n",
      "| FM 59852-6150\"|\n",
      "|           43.0|\n",
      "|      MA 82059\"|\n",
      "|           40.0|\n",
      "| WI 51655-7561\"|\n",
      "+---------------+\n",
      "only showing top 20 rows\n",
      "\n"
     ]
    }
   ],
   "source": [
    "df.na.fill(0).select('Age').show()"
   ]
  },
  {
   "cell_type": "code",
   "execution_count": 31,
   "id": "beb35763",
   "metadata": {},
   "outputs": [
    {
     "name": "stdout",
     "output_type": "stream",
     "text": [
      "+-------+\n",
      "|Company|\n",
      "+-------+\n",
      "|MISSING|\n",
      "|MISSING|\n",
      "|MISSING|\n",
      "|MISSING|\n",
      "|MISSING|\n",
      "|MISSING|\n",
      "|MISSING|\n",
      "|MISSING|\n",
      "|MISSING|\n",
      "|MISSING|\n",
      "|MISSING|\n",
      "|MISSING|\n",
      "|MISSING|\n",
      "|MISSING|\n",
      "|MISSING|\n",
      "|MISSING|\n",
      "|MISSING|\n",
      "|MISSING|\n",
      "|MISSING|\n",
      "|MISSING|\n",
      "+-------+\n",
      "only showing top 20 rows\n",
      "\n"
     ]
    }
   ],
   "source": [
    "df.na.fill('MISSING', subset = ['Company']).select('Company').show()"
   ]
  },
  {
   "cell_type": "code",
   "execution_count": 32,
   "id": "8f81cdb0",
   "metadata": {},
   "outputs": [],
   "source": [
    "from pyspark.sql.functions import mean "
   ]
  },
  {
   "cell_type": "code",
   "execution_count": 33,
   "id": "3bf2b0e9",
   "metadata": {},
   "outputs": [],
   "source": [
    "mean_val = df.select(mean(df['Age'])).collect()"
   ]
  },
  {
   "cell_type": "code",
   "execution_count": 34,
   "id": "7d3e229f",
   "metadata": {},
   "outputs": [
    {
     "data": {
      "text/plain": [
       "[Row(avg(Age)=41.81666666666667)]"
      ]
     },
     "execution_count": 34,
     "metadata": {},
     "output_type": "execute_result"
    }
   ],
   "source": [
    "mean_val"
   ]
  },
  {
   "cell_type": "code",
   "execution_count": 36,
   "id": "e708ed3b",
   "metadata": {},
   "outputs": [
    {
     "data": {
      "text/plain": [
       "41.81666666666667"
      ]
     },
     "execution_count": 36,
     "metadata": {},
     "output_type": "execute_result"
    }
   ],
   "source": [
    "mean_val[0][0]"
   ]
  },
  {
   "cell_type": "code",
   "execution_count": 40,
   "id": "b3627a90",
   "metadata": {},
   "outputs": [
    {
     "name": "stdout",
     "output_type": "stream",
     "text": [
      "+---------------+\n",
      "|            Age|\n",
      "+---------------+\n",
      "|           42.0|\n",
      "|      AK 89518\"|\n",
      "|           41.0|\n",
      "|      RI 17756\"|\n",
      "|           38.0|\n",
      "|      DE 90114\"|\n",
      "|           42.0|\n",
      "| WY 30645-4695\"|\n",
      "|           37.0|\n",
      "|      MH 71730\"|\n",
      "|           48.0|\n",
      "|      PR 74359\"|\n",
      "|           44.0|\n",
      "| IA 87713-3460\"|\n",
      "|           32.0|\n",
      "| FM 59852-6150\"|\n",
      "|           43.0|\n",
      "|      MA 82059\"|\n",
      "|           40.0|\n",
      "| WI 51655-7561\"|\n",
      "+---------------+\n",
      "only showing top 20 rows\n",
      "\n"
     ]
    }
   ],
   "source": [
    "df.na.fill(mean_val[0][0], subset=['Age']).select('Age').show()"
   ]
  },
  {
   "cell_type": "code",
   "execution_count": null,
   "id": "b3c33439",
   "metadata": {},
   "outputs": [],
   "source": []
  }
 ],
 "metadata": {
  "kernelspec": {
   "display_name": "Python 3 (ipykernel)",
   "language": "python",
   "name": "python3"
  },
  "language_info": {
   "codemirror_mode": {
    "name": "ipython",
    "version": 3
   },
   "file_extension": ".py",
   "mimetype": "text/x-python",
   "name": "python",
   "nbconvert_exporter": "python",
   "pygments_lexer": "ipython3",
   "version": "3.8.10"
  }
 },
 "nbformat": 4,
 "nbformat_minor": 5
}
